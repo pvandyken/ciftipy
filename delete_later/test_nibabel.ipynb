{
 "cells": [
  {
   "cell_type": "code",
   "execution_count": 12,
   "metadata": {},
   "outputs": [],
   "source": [
    "import nibabel as nb\n",
    "import numpy as np"
   ]
  },
  {
   "cell_type": "markdown",
   "metadata": {},
   "source": [
    "## dlabel"
   ]
  },
  {
   "cell_type": "markdown",
   "metadata": {},
   "source": [
    "### Extra"
   ]
  },
  {
   "cell_type": "code",
   "execution_count": 4,
   "metadata": {},
   "outputs": [],
   "source": [
    "fname = './sub-P022_space-T1w_den-0p5mm_label-hipp_atlas-bigbrain_subfields.dlabel.nii'"
   ]
  },
  {
   "cell_type": "code",
   "execution_count": 5,
   "metadata": {},
   "outputs": [
    {
     "data": {
      "text/plain": [
       "nibabel.cifti2.cifti2.Cifti2Image"
      ]
     },
     "execution_count": 5,
     "metadata": {},
     "output_type": "execute_result"
    }
   ],
   "source": [
    "cifti_file = nb.load(fname)\n",
    "type(cifti_file)"
   ]
  },
  {
   "cell_type": "code",
   "execution_count": 13,
   "metadata": {},
   "outputs": [
    {
     "data": {
      "text/plain": [
       "(1, 4)"
      ]
     },
     "execution_count": 13,
     "metadata": {},
     "output_type": "execute_result"
    }
   ],
   "source": [
    "data = np.array([[1,2,3,4]])\n",
    "data.shape"
   ]
  },
  {
   "cell_type": "code",
   "execution_count": 15,
   "metadata": {},
   "outputs": [
    {
     "name": "stderr",
     "output_type": "stream",
     "text": [
      "/home/mcespedes/Documents/code/test-folder/venv/lib/python3.10/site-packages/nibabel/cifti2/cifti2.py:1466: UserWarning: Dataobj shape (1, 4) does not match shape expected from CIFTI-2 header (1, 14524)\n",
      "  warn(\n"
     ]
    }
   ],
   "source": [
    "caca = nb.cifti2.Cifti2Image(data, cifti_file.header, cifti_file.nifti_header, cifti_file.extra, cifti_file.file_map)"
   ]
  },
  {
   "cell_type": "code",
   "execution_count": 19,
   "metadata": {},
   "outputs": [
    {
     "data": {
      "text/plain": [
       "(1, 1, 1, 1, 1, 4)"
      ]
     },
     "execution_count": 19,
     "metadata": {},
     "output_type": "execute_result"
    }
   ],
   "source": [
    "caca.nifti_header.get_data_shape()"
   ]
  },
  {
   "cell_type": "code",
   "execution_count": 7,
   "metadata": {},
   "outputs": [
    {
     "data": {
      "text/plain": [
       "(1, 14524)"
      ]
     },
     "execution_count": 7,
     "metadata": {},
     "output_type": "execute_result"
    }
   ],
   "source": [
    "cifti_file.shape"
   ]
  },
  {
   "cell_type": "code",
   "execution_count": 6,
   "metadata": {},
   "outputs": [
    {
     "data": {
      "text/plain": [
       "nibabel.cifti2.cifti2.Cifti2Header"
      ]
     },
     "execution_count": 6,
     "metadata": {},
     "output_type": "execute_result"
    }
   ],
   "source": [
    "type(cifti_file.header)"
   ]
  },
  {
   "cell_type": "code",
   "execution_count": 7,
   "metadata": {},
   "outputs": [],
   "source": [
    "axes = [cifti_file.header.get_axis(i) for i in range(cifti_file.ndim)]"
   ]
  },
  {
   "cell_type": "code",
   "execution_count": 10,
   "metadata": {},
   "outputs": [
    {
     "data": {
      "text/plain": [
       "nibabel.cifti2.cifti2_axes.LabelAxis"
      ]
     },
     "execution_count": 10,
     "metadata": {},
     "output_type": "execute_result"
    }
   ],
   "source": [
    "type(axes[0])"
   ]
  },
  {
   "cell_type": "code",
   "execution_count": 11,
   "metadata": {},
   "outputs": [
    {
     "data": {
      "text/plain": [
       "array([{}], dtype=object)"
      ]
     },
     "execution_count": 11,
     "metadata": {},
     "output_type": "execute_result"
    }
   ],
   "source": [
    "axes[0].meta # https://nipy.org/nibabel/reference/nibabel.cifti2.html#nibabel.cifti2.cifti2_axes.LabelAxis"
   ]
  },
  {
   "cell_type": "markdown",
   "metadata": {},
   "source": [
    "### Presentation"
   ]
  },
  {
   "cell_type": "code",
   "execution_count": 31,
   "metadata": {},
   "outputs": [
    {
     "name": "stdout",
     "output_type": "stream",
     "text": [
      "[[[-0.15270406 -0.10130453 -0.10375933 ...  0.7144177   0.58595586\n",
      "    0.59983456]]]\n",
      "[[[-0.17896667 -0.12353849 -0.06151204 ...  0.15536353  0.27006435\n",
      "    0.25702739]]]\n"
     ]
    }
   ],
   "source": [
    "# Current implementation\n",
    "\n",
    "import numpy as np\n",
    "import nibabel as nb\n",
    "\n",
    "# Import label\n",
    "fname = './sub-P022_space-T1w_den-0p5mm_label-hipp_atlas-bigbrain_subfields.dlabel.nii'\n",
    "cifti_file = nb.load(fname)\n",
    "\n",
    "# Import image\n",
    "img = nb.load('./sub-P022_space-T1w_den-0p5mm_label-hipp_curvature.dscalar.nii').get_fdata()\n",
    "\n",
    "# Get indexes for 1 key\n",
    "idx = np.where((cifti_file.get_fdata().astype(int)==1)[0])\n",
    "# index based on these\n",
    "print(img[:,idx])\n",
    "\n",
    "# Get index for 1 label\n",
    "axes = [cifti_file.header.get_axis(i) for i in range(cifti_file.ndim)]\n",
    "labels = axes[0].label[0]\n",
    "# Get key associated to label\n",
    "key_label = list(zip(*labels.values()))[0].index('CA1')\n",
    "# Get the indexes associated with key\n",
    "idx = np.where((cifti_file.get_fdata().astype(int)==key_label)[0])\n",
    "# indexing\n",
    "print(img[:,idx])"
   ]
  },
  {
   "cell_type": "code",
   "execution_count": null,
   "metadata": {},
   "outputs": [],
   "source": [
    "# Our implementation\n",
    "import ciftipy as cp\n",
    "\n",
    "# loading label file\n",
    "fname = './sub-P022_space-T1w_den-0p5mm_label-hipp_atlas-bigbrain_subfields.dlabel.nii'\n",
    "label_data = cp.load(fname)\n",
    "\n",
    "# loading img file\n",
    "img = nb.load('./sub-P022_space-T1w_den-0p5mm_label-hipp_curvature.dscalar.nii')\n",
    "\n",
    "# indexing based on keys\n",
    "idx = label_data.keys[1]\n",
    "print(img[idx, :])\n",
    "\n",
    "# indexing  based on labels\n",
    "idx = label_data.labels['CA1']\n",
    "print(img[idx, :])\n"
   ]
  },
  {
   "cell_type": "markdown",
   "metadata": {},
   "source": [
    "## dseries"
   ]
  },
  {
   "cell_type": "code",
   "execution_count": 24,
   "metadata": {},
   "outputs": [],
   "source": [
    "fname_series = './sub-S01_task-rest_dir-AP_run-1_space-fsLR_den-91k_bold.dtseries.nii'"
   ]
  },
  {
   "cell_type": "code",
   "execution_count": 25,
   "metadata": {},
   "outputs": [
    {
     "data": {
      "text/plain": [
       "nibabel.cifti2.cifti2.Cifti2Image"
      ]
     },
     "execution_count": 25,
     "metadata": {},
     "output_type": "execute_result"
    }
   ],
   "source": [
    "cifti_series = nb.load(fname_series)\n",
    "type(cifti_series)"
   ]
  },
  {
   "cell_type": "code",
   "execution_count": 64,
   "metadata": {},
   "outputs": [
    {
     "data": {
      "text/plain": [
       "(300, 91282)"
      ]
     },
     "execution_count": 64,
     "metadata": {},
     "output_type": "execute_result"
    }
   ],
   "source": [
    "cifti_series.shape"
   ]
  },
  {
   "cell_type": "code",
   "execution_count": 136,
   "metadata": {},
   "outputs": [
    {
     "data": {
      "text/plain": [
       "(300, 91282)"
      ]
     },
     "execution_count": 136,
     "metadata": {},
     "output_type": "execute_result"
    }
   ],
   "source": [
    "cifti_series.get_fdata().shape"
   ]
  },
  {
   "cell_type": "code",
   "execution_count": 27,
   "metadata": {},
   "outputs": [
    {
     "data": {
      "text/plain": [
       "[<nibabel.cifti2.cifti2_axes.SeriesAxis at 0x7f35740f7250>,\n",
       " <nibabel.cifti2.cifti2_axes.BrainModelAxis at 0x7f35845e4070>]"
      ]
     },
     "execution_count": 27,
     "metadata": {},
     "output_type": "execute_result"
    }
   ],
   "source": [
    "axes = [cifti_series.header.get_axis(i) for i in range(cifti_series.ndim)]\n",
    "axes"
   ]
  },
  {
   "cell_type": "code",
   "execution_count": 144,
   "metadata": {},
   "outputs": [
    {
     "data": {
      "text/plain": [
       "<nibabel.cifti2.cifti2_axes.BrainModelAxis at 0x7f35845e4070>"
      ]
     },
     "execution_count": 144,
     "metadata": {},
     "output_type": "execute_result"
    }
   ],
   "source": [
    "[element for element in axes if isinstance(element, nb.cifti2.cifti2_axes.BrainModelAxis)][0]"
   ]
  },
  {
   "cell_type": "code",
   "execution_count": 46,
   "metadata": {},
   "outputs": [
    {
     "data": {
      "text/plain": [
       "'SECOND'"
      ]
     },
     "execution_count": 46,
     "metadata": {},
     "output_type": "execute_result"
    }
   ],
   "source": [
    "axes[0].unit # https://nipy.org/nibabel/reference/nibabel.cifti2.html#nibabel.cifti2.cifti2_axes.SeriesAxis"
   ]
  },
  {
   "cell_type": "code",
   "execution_count": 134,
   "metadata": {},
   "outputs": [
    {
     "data": {
      "text/plain": [
       "[('CIFTI_STRUCTURE_CORTEX_LEFT',\n",
       "  slice(0, 29696, None),\n",
       "  <nibabel.cifti2.cifti2_axes.BrainModelAxis at 0x7f354c037b80>),\n",
       " ('CIFTI_STRUCTURE_CORTEX_RIGHT',\n",
       "  slice(29696, 59412, None),\n",
       "  <nibabel.cifti2.cifti2_axes.BrainModelAxis at 0x7f35740f6410>),\n",
       " ('CIFTI_STRUCTURE_ACCUMBENS_LEFT',\n",
       "  slice(59412, 59547, None),\n",
       "  <nibabel.cifti2.cifti2_axes.BrainModelAxis at 0x7f35740f75e0>),\n",
       " ('CIFTI_STRUCTURE_ACCUMBENS_RIGHT',\n",
       "  slice(59547, 59687, None),\n",
       "  <nibabel.cifti2.cifti2_axes.BrainModelAxis at 0x7f35740f52a0>),\n",
       " ('CIFTI_STRUCTURE_AMYGDALA_LEFT',\n",
       "  slice(59687, 60002, None),\n",
       "  <nibabel.cifti2.cifti2_axes.BrainModelAxis at 0x7f35740f45e0>),\n",
       " ('CIFTI_STRUCTURE_AMYGDALA_RIGHT',\n",
       "  slice(60002, 60334, None),\n",
       "  <nibabel.cifti2.cifti2_axes.BrainModelAxis at 0x7f35740f7e20>),\n",
       " ('CIFTI_STRUCTURE_BRAIN_STEM',\n",
       "  slice(60334, 63806, None),\n",
       "  <nibabel.cifti2.cifti2_axes.BrainModelAxis at 0x7f35740f6c80>),\n",
       " ('CIFTI_STRUCTURE_CAUDATE_LEFT',\n",
       "  slice(63806, 64534, None),\n",
       "  <nibabel.cifti2.cifti2_axes.BrainModelAxis at 0x7f35740f4670>),\n",
       " ('CIFTI_STRUCTURE_CAUDATE_RIGHT',\n",
       "  slice(64534, 65289, None),\n",
       "  <nibabel.cifti2.cifti2_axes.BrainModelAxis at 0x7f354c0bcd60>),\n",
       " ('CIFTI_STRUCTURE_CEREBELLUM_LEFT',\n",
       "  slice(65289, 73998, None),\n",
       "  <nibabel.cifti2.cifti2_axes.BrainModelAxis at 0x7f354c0bf6d0>),\n",
       " ('CIFTI_STRUCTURE_CEREBELLUM_RIGHT',\n",
       "  slice(73998, 83142, None),\n",
       "  <nibabel.cifti2.cifti2_axes.BrainModelAxis at 0x7f354c0bfd60>),\n",
       " ('CIFTI_STRUCTURE_DIENCEPHALON_VENTRAL_LEFT',\n",
       "  slice(83142, 83848, None),\n",
       "  <nibabel.cifti2.cifti2_axes.BrainModelAxis at 0x7f354c1e3640>),\n",
       " ('CIFTI_STRUCTURE_DIENCEPHALON_VENTRAL_RIGHT',\n",
       "  slice(83848, 84560, None),\n",
       "  <nibabel.cifti2.cifti2_axes.BrainModelAxis at 0x7f354b765cc0>),\n",
       " ('CIFTI_STRUCTURE_HIPPOCAMPUS_LEFT',\n",
       "  slice(84560, 85324, None),\n",
       "  <nibabel.cifti2.cifti2_axes.BrainModelAxis at 0x7f354c1ec280>),\n",
       " ('CIFTI_STRUCTURE_HIPPOCAMPUS_RIGHT',\n",
       "  slice(85324, 86119, None),\n",
       "  <nibabel.cifti2.cifti2_axes.BrainModelAxis at 0x7f354c0c1390>),\n",
       " ('CIFTI_STRUCTURE_PALLIDUM_LEFT',\n",
       "  slice(86119, 86416, None),\n",
       "  <nibabel.cifti2.cifti2_axes.BrainModelAxis at 0x7f354c0b7f40>),\n",
       " ('CIFTI_STRUCTURE_PALLIDUM_RIGHT',\n",
       "  slice(86416, 86676, None),\n",
       "  <nibabel.cifti2.cifti2_axes.BrainModelAxis at 0x7f354c0b7910>),\n",
       " ('CIFTI_STRUCTURE_PUTAMEN_LEFT',\n",
       "  slice(86676, 87736, None),\n",
       "  <nibabel.cifti2.cifti2_axes.BrainModelAxis at 0x7f354c0b6020>),\n",
       " ('CIFTI_STRUCTURE_PUTAMEN_RIGHT',\n",
       "  slice(87736, 88746, None),\n",
       "  <nibabel.cifti2.cifti2_axes.BrainModelAxis at 0x7f354c0b48e0>),\n",
       " ('CIFTI_STRUCTURE_THALAMUS_LEFT',\n",
       "  slice(88746, 90034, None),\n",
       "  <nibabel.cifti2.cifti2_axes.BrainModelAxis at 0x7f354c0b5030>),\n",
       " ('CIFTI_STRUCTURE_THALAMUS_RIGHT',\n",
       "  slice(90034, None, None),\n",
       "  <nibabel.cifti2.cifti2_axes.BrainModelAxis at 0x7f354c0b73d0>)]"
      ]
     },
     "execution_count": 134,
     "metadata": {},
     "output_type": "execute_result"
    }
   ],
   "source": [
    "list(axes[1].iter_structures())# https://nipy.org/nibabel/reference/nibabel.cifti2.html#nibabel.cifti2.cifti2_axes.BrainModelAxis"
   ]
  },
  {
   "cell_type": "code",
   "execution_count": 39,
   "metadata": {},
   "outputs": [
    {
     "data": {
      "text/plain": [
       "(91282,)"
      ]
     },
     "execution_count": 39,
     "metadata": {},
     "output_type": "execute_result"
    }
   ],
   "source": [
    "axes[1].name.shape"
   ]
  },
  {
   "cell_type": "code",
   "execution_count": 130,
   "metadata": {},
   "outputs": [
    {
     "name": "stdout",
     "output_type": "stream",
     "text": [
      "59412\n"
     ]
    }
   ],
   "source": [
    "caca = axes[1].voxel[:,0]\n",
    "print(len(caca)- len(caca[caca!=-1]))"
   ]
  },
  {
   "cell_type": "code",
   "execution_count": 132,
   "metadata": {},
   "outputs": [
    {
     "data": {
      "text/plain": [
       "59412"
      ]
     },
     "execution_count": 132,
     "metadata": {},
     "output_type": "execute_result"
    }
   ],
   "source": [
    "vertexidx = axes[1].vertex\n",
    "vertexidx = vertexidx[vertexidx!=-1]\n",
    "len(vertexidx)"
   ]
  },
  {
   "cell_type": "code",
   "execution_count": 140,
   "metadata": {},
   "outputs": [
    {
     "data": {
      "text/plain": [
       "array([0, 0])"
      ]
     },
     "execution_count": 140,
     "metadata": {},
     "output_type": "execute_result"
    }
   ],
   "source": [
    "vertexidx[vertexidx==0]"
   ]
  },
  {
   "cell_type": "code",
   "execution_count": 155,
   "metadata": {},
   "outputs": [
    {
     "data": {
      "text/plain": [
       "array([[-1, -1, -1],\n",
       "       [-1, -1, -1],\n",
       "       [-1, -1, -1],\n",
       "       ...,\n",
       "       [45, 56, 38],\n",
       "       [45, 56, 40],\n",
       "       [45, 56, 41]])"
      ]
     },
     "execution_count": 155,
     "metadata": {},
     "output_type": "execute_result"
    }
   ],
   "source": [
    "axes[1].voxel"
   ]
  },
  {
   "cell_type": "code",
   "execution_count": 156,
   "metadata": {},
   "outputs": [
    {
     "data": {
      "text/plain": [
       "91282"
      ]
     },
     "execution_count": 156,
     "metadata": {},
     "output_type": "execute_result"
    }
   ],
   "source": [
    "a = axes[1].vertex\n",
    "b = axes[1].voxel[:,0]\n",
    "len(a[a!=-1]) +len(b[b!=-1])"
   ]
  },
  {
   "cell_type": "code",
   "execution_count": 125,
   "metadata": {},
   "outputs": [
    {
     "data": {
      "text/plain": [
       "31870"
      ]
     },
     "execution_count": 125,
     "metadata": {},
     "output_type": "execute_result"
    }
   ],
   "source": [
    "voxels = axes[1].voxel[:,0]\n",
    "len(voxels[voxels!=-1])"
   ]
  },
  {
   "cell_type": "code",
   "execution_count": 110,
   "metadata": {},
   "outputs": [
    {
     "data": {
      "text/plain": [
       "array([-1, 18, 19, 20, 21, 22, 23, 24, 25, 26, 27, 28, 29, 30, 31, 32, 33,\n",
       "       34, 35, 36, 37, 38, 39, 40, 41, 42, 43, 44, 45, 46, 47, 48, 49, 50,\n",
       "       51, 52, 53, 54, 55, 56, 57, 58, 59, 60, 61, 62, 63, 64, 65, 66, 67,\n",
       "       68, 69, 70, 71, 72])"
      ]
     },
     "execution_count": 110,
     "metadata": {},
     "output_type": "execute_result"
    }
   ],
   "source": [
    "voxelsid = np.unique(axes[1].voxel[:,0])\n",
    "voxelsid"
   ]
  },
  {
   "cell_type": "code",
   "execution_count": 147,
   "metadata": {},
   "outputs": [
    {
     "data": {
      "text/plain": [
       "(91282, 3)"
      ]
     },
     "execution_count": 147,
     "metadata": {},
     "output_type": "execute_result"
    }
   ],
   "source": [
    "axes[1].voxel.shape"
   ]
  },
  {
   "cell_type": "code",
   "execution_count": null,
   "metadata": {},
   "outputs": [],
   "source": []
  },
  {
   "cell_type": "code",
   "execution_count": 112,
   "metadata": {},
   "outputs": [
    {
     "data": {
      "text/plain": [
       "10"
      ]
     },
     "execution_count": 112,
     "metadata": {},
     "output_type": "execute_result"
    }
   ],
   "source": [
    "slice(1,10,2).stop"
   ]
  },
  {
   "cell_type": "code",
   "execution_count": 113,
   "metadata": {},
   "outputs": [
    {
     "data": {
      "text/plain": [
       "True"
      ]
     },
     "execution_count": 113,
     "metadata": {},
     "output_type": "execute_result"
    }
   ],
   "source": [
    "4 in range(2,8)"
   ]
  },
  {
   "cell_type": "code",
   "execution_count": 72,
   "metadata": {},
   "outputs": [],
   "source": [
    "import numpy as np\n",
    "import nibabel as nb\n",
    "from nibabel.cifti2 import cifti2\n",
    "from typing import Any, Mapping, Sequence, SupportsIndex, TypeAlias, TypeVar\n",
    "\n",
    "\n",
    "class CiftiImg:\n",
    "    def __init__(self, cifti: cifti2.Cifti2Image):\n",
    "        self.nibabel_obj = cifti\n",
    "    \n",
    "    @property\n",
    "    def shape(self):\n",
    "        return self.nibabel_obj.shape\n",
    "\n",
    "    def __getitem__(self, __index):\n",
    "        # Get the data\n",
    "        data = self.nibabel_obj.get_fdata()\n",
    "        # Index the dataobj\n",
    "        new_data = data[__index]\n",
    "        # Update the header\n",
    "\n",
    "        # Construct a new object\n",
    "        new_nb_obj =  nb.cifti2.Cifti2Image(new_data, self.nibabel_obj.header,\n",
    "                                            self.nibabel_obj.nifti_header,\n",
    "                                            self.nibabel_obj.extra,\n",
    "                                            self.nibabel_obj.file_map)\n",
    "        return CiftiImg(new_nb_obj)"
   ]
  },
  {
   "cell_type": "code",
   "execution_count": 73,
   "metadata": {},
   "outputs": [],
   "source": [
    "caca = CiftiImg(cifti_series)"
   ]
  },
  {
   "cell_type": "code",
   "execution_count": 74,
   "metadata": {},
   "outputs": [
    {
     "name": "stderr",
     "output_type": "stream",
     "text": [
      "/home/mcespedes/Documents/code/test-folder/venv/lib/python3.10/site-packages/nibabel/cifti2/cifti2.py:1466: UserWarning: Dataobj shape (10, 91282) does not match shape expected from CIFTI-2 header (300, 91282)\n",
      "  warn(\n"
     ]
    }
   ],
   "source": [
    "lolo = caca.__getitem__(slice(0,10))"
   ]
  },
  {
   "cell_type": "code",
   "execution_count": 75,
   "metadata": {},
   "outputs": [
    {
     "data": {
      "text/plain": [
       "(10, 91282)"
      ]
     },
     "execution_count": 75,
     "metadata": {},
     "output_type": "execute_result"
    }
   ],
   "source": [
    "lolo.shape"
   ]
  },
  {
   "cell_type": "markdown",
   "metadata": {},
   "source": [
    "## dscalar"
   ]
  },
  {
   "cell_type": "code",
   "execution_count": 49,
   "metadata": {},
   "outputs": [],
   "source": [
    "fname_scalar = '/home/mcespedes/Documents/Results/hippunfold/sub-P022/surf/sub-P022_space-T1w_den-0p5mm_label-hipp_curvature.dscalar.nii'"
   ]
  },
  {
   "cell_type": "code",
   "execution_count": 50,
   "metadata": {},
   "outputs": [
    {
     "data": {
      "text/plain": [
       "nibabel.cifti2.cifti2.Cifti2Image"
      ]
     },
     "execution_count": 50,
     "metadata": {},
     "output_type": "execute_result"
    }
   ],
   "source": [
    "cifti_scalar = nb.load(fname_scalar)\n",
    "type(cifti_scalar)"
   ]
  },
  {
   "cell_type": "code",
   "execution_count": 51,
   "metadata": {},
   "outputs": [
    {
     "data": {
      "text/plain": [
       "(1, 14524)"
      ]
     },
     "execution_count": 51,
     "metadata": {},
     "output_type": "execute_result"
    }
   ],
   "source": [
    "cifti_scalar.get_fdata().shape"
   ]
  },
  {
   "cell_type": "code",
   "execution_count": 52,
   "metadata": {},
   "outputs": [
    {
     "data": {
      "text/plain": [
       "[<nibabel.cifti2.cifti2_axes.ScalarAxis at 0x7f6ab0460310>,\n",
       " <nibabel.cifti2.cifti2_axes.BrainModelAxis at 0x7f6a9034c7c0>]"
      ]
     },
     "execution_count": 52,
     "metadata": {},
     "output_type": "execute_result"
    }
   ],
   "source": [
    "axes = [cifti_scalar.header.get_axis(i) for i in range(cifti_scalar.ndim)]\n",
    "axes"
   ]
  },
  {
   "cell_type": "code",
   "execution_count": 53,
   "metadata": {},
   "outputs": [
    {
     "data": {
      "text/plain": [
       "array(['mean curvature'], dtype='<U14')"
      ]
     },
     "execution_count": 53,
     "metadata": {},
     "output_type": "execute_result"
    }
   ],
   "source": [
    "axes[0].name # https://nipy.org/nibabel/reference/nibabel.cifti2.html#nibabel.cifti2.cifti2_axes.ScalarAxis"
   ]
  },
  {
   "cell_type": "code",
   "execution_count": 54,
   "metadata": {},
   "outputs": [
    {
     "data": {
      "text/plain": [
       "array([{}], dtype=object)"
      ]
     },
     "execution_count": 54,
     "metadata": {},
     "output_type": "execute_result"
    }
   ],
   "source": [
    "axes[0].meta"
   ]
  }
 ],
 "metadata": {
  "kernelspec": {
   "display_name": "venv",
   "language": "python",
   "name": "python3"
  },
  "language_info": {
   "codemirror_mode": {
    "name": "ipython",
    "version": 3
   },
   "file_extension": ".py",
   "mimetype": "text/x-python",
   "name": "python",
   "nbconvert_exporter": "python",
   "pygments_lexer": "ipython3",
   "version": "3.10.6"
  },
  "orig_nbformat": 4
 },
 "nbformat": 4,
 "nbformat_minor": 2
}

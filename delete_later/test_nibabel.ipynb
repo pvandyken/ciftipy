{
 "cells": [
  {
   "cell_type": "code",
   "execution_count": 3,
   "metadata": {},
   "outputs": [],
   "source": [
    "import nibabel as nb\n",
    "import numpy as np"
   ]
  },
  {
   "cell_type": "markdown",
   "metadata": {},
   "source": [
    "## dlabel"
   ]
  },
  {
   "cell_type": "markdown",
   "metadata": {},
   "source": [
    "### Extra"
   ]
  },
  {
   "cell_type": "code",
   "execution_count": 14,
   "metadata": {},
   "outputs": [],
   "source": [
    "fname = './sub-P022_space-T1w_den-0p5mm_label-hipp_atlas-bigbrain_subfields.dlabel.nii'"
   ]
  },
  {
   "cell_type": "code",
   "execution_count": null,
   "metadata": {},
   "outputs": [],
   "source": [
    "cifti_file.header.i"
   ]
  },
  {
   "cell_type": "code",
   "execution_count": 15,
   "metadata": {},
   "outputs": [
    {
     "data": {
      "text/plain": [
       "nibabel.cifti2.cifti2.Cifti2Image"
      ]
     },
     "execution_count": 15,
     "metadata": {},
     "output_type": "execute_result"
    }
   ],
   "source": [
    "cifti_file = nb.load(fname)\n",
    "type(cifti_file)"
   ]
  },
  {
   "cell_type": "code",
   "execution_count": 105,
   "metadata": {},
   "outputs": [
    {
     "data": {
      "text/plain": [
       "memmap([[1., 3., 3., ..., 5., 5., 5.]])"
      ]
     },
     "execution_count": 105,
     "metadata": {},
     "output_type": "execute_result"
    }
   ],
   "source": [
    "cifti_file.get_fdata()"
   ]
  },
  {
   "cell_type": "code",
   "execution_count": 25,
   "metadata": {},
   "outputs": [
    {
     "data": {
      "text/plain": [
       "(1, 4)"
      ]
     },
     "execution_count": 25,
     "metadata": {},
     "output_type": "execute_result"
    }
   ],
   "source": [
    "data = np.array([[1,2,3,4]])\n",
    "data.shape"
   ]
  },
  {
   "cell_type": "code",
   "execution_count": 17,
   "metadata": {},
   "outputs": [],
   "source": [
    "caca = nb.cifti2.Cifti2Image(data, cifti_file.header, cifti_file.nifti_header, cifti_file.extra, cifti_file.file_map)"
   ]
  },
  {
   "cell_type": "code",
   "execution_count": 18,
   "metadata": {},
   "outputs": [
    {
     "data": {
      "text/plain": [
       "(1, 1, 1, 1, 1, 4)"
      ]
     },
     "execution_count": 18,
     "metadata": {},
     "output_type": "execute_result"
    }
   ],
   "source": [
    "caca.nifti_header.get_data_shape()"
   ]
  },
  {
   "cell_type": "code",
   "execution_count": 101,
   "metadata": {},
   "outputs": [
    {
     "data": {
      "text/plain": [
       "<nibabel.cifti2.cifti2.Cifti2Image at 0x10221c7d0>"
      ]
     },
     "execution_count": 101,
     "metadata": {},
     "output_type": "execute_result"
    }
   ],
   "source": [
    "cifti_file"
   ]
  },
  {
   "cell_type": "code",
   "execution_count": 20,
   "metadata": {},
   "outputs": [
    {
     "data": {
      "text/plain": [
       "nibabel.cifti2.cifti2.Cifti2Header"
      ]
     },
     "execution_count": 20,
     "metadata": {},
     "output_type": "execute_result"
    }
   ],
   "source": [
    "type(cifti_file.header)"
   ]
  },
  {
   "cell_type": "code",
   "execution_count": 21,
   "metadata": {},
   "outputs": [],
   "source": [
    "axes = [cifti_file.header.get_axis(i) for i in range(cifti_file.ndim)]"
   ]
  },
  {
   "cell_type": "code",
   "execution_count": 32,
   "metadata": {},
   "outputs": [
    {
     "data": {
      "text/plain": [
       "['__abstractmethods__',\n",
       " '__add__',\n",
       " '__class__',\n",
       " '__delattr__',\n",
       " '__dict__',\n",
       " '__dir__',\n",
       " '__doc__',\n",
       " '__eq__',\n",
       " '__format__',\n",
       " '__ge__',\n",
       " '__getattribute__',\n",
       " '__getitem__',\n",
       " '__getstate__',\n",
       " '__gt__',\n",
       " '__hash__',\n",
       " '__init__',\n",
       " '__init_subclass__',\n",
       " '__le__',\n",
       " '__len__',\n",
       " '__lt__',\n",
       " '__module__',\n",
       " '__ne__',\n",
       " '__new__',\n",
       " '__reduce__',\n",
       " '__reduce_ex__',\n",
       " '__repr__',\n",
       " '__setattr__',\n",
       " '__sizeof__',\n",
       " '__slots__',\n",
       " '__str__',\n",
       " '__subclasshook__',\n",
       " '__weakref__',\n",
       " '_abc_impl',\n",
       " 'from_index_mapping',\n",
       " 'get_element',\n",
       " 'label',\n",
       " 'meta',\n",
       " 'name',\n",
       " 'size',\n",
       " 'to_mapping']"
      ]
     },
     "execution_count": 32,
     "metadata": {},
     "output_type": "execute_result"
    }
   ],
   "source": [
    "dir(axes[0])"
   ]
  },
  {
   "cell_type": "code",
   "execution_count": null,
   "metadata": {},
   "outputs": [],
   "source": [
    "\n",
    "\n",
    "def index_label_axis( \n",
    "        axis: cifti2_axes.LabelAxis, index: CiftiIndex1d\n",
    "        ) -> cifti2_axes.BrainModelAxis:"
   ]
  },
  {
   "cell_type": "code",
   "execution_count": 166,
   "metadata": {},
   "outputs": [
    {
     "data": {
      "text/plain": [
       "['__abstractmethods__',\n",
       " '__add__',\n",
       " '__class__',\n",
       " '__delattr__',\n",
       " '__dict__',\n",
       " '__dir__',\n",
       " '__doc__',\n",
       " '__eq__',\n",
       " '__format__',\n",
       " '__ge__',\n",
       " '__getattribute__',\n",
       " '__getitem__',\n",
       " '__getstate__',\n",
       " '__gt__',\n",
       " '__hash__',\n",
       " '__init__',\n",
       " '__init_subclass__',\n",
       " '__le__',\n",
       " '__len__',\n",
       " '__lt__',\n",
       " '__module__',\n",
       " '__ne__',\n",
       " '__new__',\n",
       " '__reduce__',\n",
       " '__reduce_ex__',\n",
       " '__repr__',\n",
       " '__setattr__',\n",
       " '__sizeof__',\n",
       " '__slots__',\n",
       " '__str__',\n",
       " '__subclasshook__',\n",
       " '__weakref__',\n",
       " '_abc_impl',\n",
       " 'from_index_mapping',\n",
       " 'get_element',\n",
       " 'label',\n",
       " 'meta',\n",
       " 'name',\n",
       " 'size',\n",
       " 'to_mapping']"
      ]
     },
     "execution_count": 166,
     "metadata": {},
     "output_type": "execute_result"
    }
   ],
   "source": [
    "dir(axes[0])"
   ]
  },
  {
   "cell_type": "code",
   "execution_count": 174,
   "metadata": {},
   "outputs": [
    {
     "data": {
      "text/plain": [
       "1"
      ]
     },
     "execution_count": 174,
     "metadata": {},
     "output_type": "execute_result"
    }
   ],
   "source": [
    "axes[0].size"
   ]
  },
  {
   "cell_type": "code",
   "execution_count": null,
   "metadata": {},
   "outputs": [],
   "source": [
    "dir(axes[0].to_mapping(1).brain_models)"
   ]
  },
  {
   "cell_type": "code",
   "execution_count": 135,
   "metadata": {},
   "outputs": [
    {
     "data": {
      "text/plain": [
       "['__abstractmethods__',\n",
       " '__class__',\n",
       " '__class_getitem__',\n",
       " '__contains__',\n",
       " '__delattr__',\n",
       " '__delitem__',\n",
       " '__dict__',\n",
       " '__dir__',\n",
       " '__doc__',\n",
       " '__eq__',\n",
       " '__format__',\n",
       " '__ge__',\n",
       " '__getattribute__',\n",
       " '__getitem__',\n",
       " '__getstate__',\n",
       " '__gt__',\n",
       " '__hash__',\n",
       " '__iadd__',\n",
       " '__init__',\n",
       " '__init_subclass__',\n",
       " '__iter__',\n",
       " '__le__',\n",
       " '__len__',\n",
       " '__lt__',\n",
       " '__module__',\n",
       " '__ne__',\n",
       " '__new__',\n",
       " '__reduce__',\n",
       " '__reduce_ex__',\n",
       " '__repr__',\n",
       " '__reversed__',\n",
       " '__setattr__',\n",
       " '__setitem__',\n",
       " '__sizeof__',\n",
       " '__slotnames__',\n",
       " '__slots__',\n",
       " '__str__',\n",
       " '__subclasshook__',\n",
       " '__weakref__',\n",
       " '_abc_impl',\n",
       " '_maps',\n",
       " '_to_xml_element',\n",
       " '_valid_type_mappings_',\n",
       " 'append',\n",
       " 'applies_to_matrix_dimension',\n",
       " 'brain_models',\n",
       " 'clear',\n",
       " 'count',\n",
       " 'extend',\n",
       " 'index',\n",
       " 'indices_map_to_data_type',\n",
       " 'insert',\n",
       " 'named_maps',\n",
       " 'number_of_series_points',\n",
       " 'parcels',\n",
       " 'pop',\n",
       " 'remove',\n",
       " 'reverse',\n",
       " 'series_exponent',\n",
       " 'series_start',\n",
       " 'series_step',\n",
       " 'series_unit',\n",
       " 'surfaces',\n",
       " 'to_xml',\n",
       " 'volume']"
      ]
     },
     "execution_count": 135,
     "metadata": {},
     "output_type": "execute_result"
    }
   ],
   "source": [
    "dir(axes[0].to_mapping(1))"
   ]
  },
  {
   "cell_type": "code",
   "execution_count": 137,
   "metadata": {},
   "outputs": [
    {
     "name": "stdout",
     "output_type": "stream",
     "text": [
      "[1]\n"
     ]
    }
   ],
   "source": [
    "print(axes[0].to_mapping(1).applies_to_matrix_dimension)"
   ]
  },
  {
   "cell_type": "code",
   "execution_count": 184,
   "metadata": {},
   "outputs": [
    {
     "data": {
      "text/plain": [
       "<nibabel.cifti2.cifti2_axes.LabelAxis at 0x1243e6590>"
      ]
     },
     "execution_count": 184,
     "metadata": {},
     "output_type": "execute_result"
    }
   ],
   "source": [
    "axes[0]"
   ]
  },
  {
   "cell_type": "code",
   "execution_count": 177,
   "metadata": {},
   "outputs": [
    {
     "data": {
      "text/plain": [
       "<nibabel.cifti2.cifti2.Cifti2MatrixIndicesMap at 0x1246e3550>"
      ]
     },
     "execution_count": 177,
     "metadata": {},
     "output_type": "execute_result"
    }
   ],
   "source": [
    "axes[0].to_mapping(1)"
   ]
  },
  {
   "cell_type": "code",
   "execution_count": 147,
   "metadata": {},
   "outputs": [
    {
     "data": {
      "text/plain": [
       "['__class__',\n",
       " '__del__',\n",
       " '__delattr__',\n",
       " '__dir__',\n",
       " '__doc__',\n",
       " '__eq__',\n",
       " '__format__',\n",
       " '__ge__',\n",
       " '__getattribute__',\n",
       " '__getstate__',\n",
       " '__gt__',\n",
       " '__hash__',\n",
       " '__init__',\n",
       " '__init_subclass__',\n",
       " '__iter__',\n",
       " '__le__',\n",
       " '__lt__',\n",
       " '__name__',\n",
       " '__ne__',\n",
       " '__new__',\n",
       " '__next__',\n",
       " '__qualname__',\n",
       " '__reduce__',\n",
       " '__reduce_ex__',\n",
       " '__repr__',\n",
       " '__setattr__',\n",
       " '__sizeof__',\n",
       " '__str__',\n",
       " '__subclasshook__',\n",
       " 'close',\n",
       " 'gi_code',\n",
       " 'gi_frame',\n",
       " 'gi_running',\n",
       " 'gi_suspended',\n",
       " 'gi_yieldfrom',\n",
       " 'send',\n",
       " 'throw']"
      ]
     },
     "execution_count": 147,
     "metadata": {},
     "output_type": "execute_result"
    }
   ],
   "source": [
    "dir(axes[0].to_mapping(1).brain_models)"
   ]
  },
  {
   "cell_type": "code",
   "execution_count": 155,
   "metadata": {},
   "outputs": [
    {
     "data": {
      "text/plain": [
       "['__class__',\n",
       " '__delattr__',\n",
       " '__dir__',\n",
       " '__doc__',\n",
       " '__eq__',\n",
       " '__format__',\n",
       " '__ge__',\n",
       " '__getattribute__',\n",
       " '__getstate__',\n",
       " '__gt__',\n",
       " '__hash__',\n",
       " '__init__',\n",
       " '__init_subclass__',\n",
       " '__le__',\n",
       " '__lt__',\n",
       " '__ne__',\n",
       " '__new__',\n",
       " '__reduce__',\n",
       " '__reduce_ex__',\n",
       " '__repr__',\n",
       " '__setattr__',\n",
       " '__sizeof__',\n",
       " '__str__',\n",
       " '__subclasshook__',\n",
       " '_co_code_adaptive',\n",
       " '_varname_from_oparg',\n",
       " 'co_argcount',\n",
       " 'co_cellvars',\n",
       " 'co_code',\n",
       " 'co_consts',\n",
       " 'co_exceptiontable',\n",
       " 'co_filename',\n",
       " 'co_firstlineno',\n",
       " 'co_flags',\n",
       " 'co_freevars',\n",
       " 'co_kwonlyargcount',\n",
       " 'co_lines',\n",
       " 'co_linetable',\n",
       " 'co_lnotab',\n",
       " 'co_name',\n",
       " 'co_names',\n",
       " 'co_nlocals',\n",
       " 'co_positions',\n",
       " 'co_posonlyargcount',\n",
       " 'co_qualname',\n",
       " 'co_stacksize',\n",
       " 'co_varnames',\n",
       " 'replace']"
      ]
     },
     "execution_count": 155,
     "metadata": {},
     "output_type": "execute_result"
    }
   ],
   "source": [
    "dir(axes[0].to_mapping(1).brain_models.gi_code)"
   ]
  },
  {
   "cell_type": "code",
   "execution_count": null,
   "metadata": {},
   "outputs": [],
   "source": []
  },
  {
   "cell_type": "code",
   "execution_count": 76,
   "metadata": {},
   "outputs": [
    {
     "name": "stdout",
     "output_type": "stream",
     "text": [
      "((1.0, 1.0, 1.0, 0.0),)\n",
      "((0.0, 0.0, 1.0, 1.0),)\n",
      "((0.521569, 0.870588, 1.0, 1.0),)\n",
      "((0.0, 1.0, 0.666667, 1.0),)\n",
      "((1.0, 0.635294, 0.0, 1.0),)\n",
      "((1.0, 0.0, 0.0, 1.0),)\n"
     ]
    }
   ],
   "source": [
    "\n",
    "for idx,item in enumerate(axes[0].label[0].values()):\n",
    "    print(item[1::])"
   ]
  },
  {
   "cell_type": "code",
   "execution_count": 23,
   "metadata": {},
   "outputs": [
    {
     "data": {
      "text/plain": [
       "array([{}], dtype=object)"
      ]
     },
     "execution_count": 23,
     "metadata": {},
     "output_type": "execute_result"
    }
   ],
   "source": [
    "axes[0].meta # https://nipy.org/nibabel/reference/nibabel.cifti2.html#nibabel.cifti2.cifti2_axes.LabelAxis"
   ]
  },
  {
   "cell_type": "markdown",
   "metadata": {},
   "source": [
    "### Presentation"
   ]
  },
  {
   "cell_type": "code",
   "execution_count": 12,
   "metadata": {},
   "outputs": [
    {
     "name": "stdout",
     "output_type": "stream",
     "text": [
      "[[[-0.15270406 -0.10130453 -0.10375933 ...  0.7144177   0.58595586\n",
      "    0.59983456]]]\n",
      "[[[-0.17896667 -0.12353849 -0.06151204 ...  0.15536353  0.27006435\n",
      "    0.25702739]]]\n"
     ]
    }
   ],
   "source": [
    "# Current implementation\n",
    "\n",
    "import numpy as np\n",
    "import nibabel as nb\n",
    "\n",
    "# Import label\n",
    "fname = './sub-P022_space-T1w_den-0p5mm_label-hipp_atlas-bigbrain_subfields.dlabel.nii'\n",
    "cifti_file = nb.load(fname)\n",
    "\n",
    "# Import image\n",
    "img = nb.load('./sub-P022_space-T1w_den-0p5mm_label-hipp_curvature.dscalar.nii').get_fdata()\n",
    "\n",
    "# Get indexes for 1 key\n",
    "idx = np.where((cifti_file.get_fdata().astype(int)==1)[0])\n",
    "# index based on these\n",
    "print(img[:,idx])\n",
    "\n",
    "# Get index for 1 label\n",
    "axes = [cifti_file.header.get_axis(i) for i in range(cifti_file.ndim)]\n",
    "labels = axes[0].label[0]\n",
    "# Get key associated to label\n",
    "key_label = list(zip(*labels.values()))[0].index('CA1')\n",
    "# Get the indexes associated with key\n",
    "idx = np.where((cifti_file.get_fdata().astype(int)==key_label)[0])\n",
    "# indexing\n",
    "print(img[:,idx])"
   ]
  },
  {
   "cell_type": "code",
   "execution_count": 13,
   "metadata": {},
   "outputs": [
    {
     "ename": "ModuleNotFoundError",
     "evalue": "No module named 'ciftipy'",
     "output_type": "error",
     "traceback": [
      "\u001b[0;31m---------------------------------------------------------------------------\u001b[0m",
      "\u001b[0;31mModuleNotFoundError\u001b[0m                       Traceback (most recent call last)",
      "Cell \u001b[0;32mIn[13], line 2\u001b[0m\n\u001b[1;32m      1\u001b[0m \u001b[39m# Our implementation\u001b[39;00m\n\u001b[0;32m----> 2\u001b[0m \u001b[39mimport\u001b[39;00m \u001b[39mciftipy\u001b[39;00m \u001b[39mas\u001b[39;00m \u001b[39mcp\u001b[39;00m\n\u001b[1;32m      4\u001b[0m \u001b[39m# loading label file\u001b[39;00m\n\u001b[1;32m      5\u001b[0m fname \u001b[39m=\u001b[39m \u001b[39m'\u001b[39m\u001b[39m./sub-P022_space-T1w_den-0p5mm_label-hipp_atlas-bigbrain_subfields.dlabel.nii\u001b[39m\u001b[39m'\u001b[39m\n",
      "\u001b[0;31mModuleNotFoundError\u001b[0m: No module named 'ciftipy'"
     ]
    }
   ],
   "source": [
    "# Our implementation\n",
    "import ciftipy as cp\n",
    "\n",
    "# loading label file\n",
    "fname = './sub-P022_space-T1w_den-0p5mm_label-hipp_atlas-bigbrain_subfields.dlabel.nii'\n",
    "label_data = cp.load(fname)\n",
    "\n",
    "# loading img file\n",
    "img = nb.load('./sub-P022_space-T1w_den-0p5mm_label-hipp_curvature.dscalar.nii')\n",
    "\n",
    "# indexing based on keys\n",
    "idx = label_data.keys[1]\n",
    "print(img[idx, :])\n",
    "\n",
    "# indexing  based on labels\n",
    "idx = label_data.labels['CA1']\n",
    "print(img[idx, :])\n"
   ]
  },
  {
   "cell_type": "markdown",
   "metadata": {},
   "source": [
    "## dseries"
   ]
  },
  {
   "cell_type": "code",
   "execution_count": 4,
   "metadata": {},
   "outputs": [],
   "source": [
    "fname_series = './ses-coco_task-coc_run-1_beta.dtseries.nii'"
   ]
  },
  {
   "cell_type": "code",
   "execution_count": 11,
   "metadata": {},
   "outputs": [
    {
     "data": {
      "text/plain": [
       "nibabel.cifti2.cifti2.Cifti2Image"
      ]
     },
     "execution_count": 11,
     "metadata": {},
     "output_type": "execute_result"
    }
   ],
   "source": [
    "cifti_series = nb.load(fname_series)\n",
    "type(cifti_series)"
   ]
  },
  {
   "cell_type": "code",
   "execution_count": 6,
   "metadata": {},
   "outputs": [
    {
     "data": {
      "text/plain": [
       "(241, 91282)"
      ]
     },
     "execution_count": 6,
     "metadata": {},
     "output_type": "execute_result"
    }
   ],
   "source": [
    "cifti_series.shape"
   ]
  },
  {
   "cell_type": "code",
   "execution_count": 7,
   "metadata": {},
   "outputs": [
    {
     "data": {
      "text/plain": [
       "(241, 91282)"
      ]
     },
     "execution_count": 7,
     "metadata": {},
     "output_type": "execute_result"
    }
   ],
   "source": [
    "cifti_series.get_fdata().shape"
   ]
  },
  {
   "cell_type": "code",
   "execution_count": 21,
   "metadata": {},
   "outputs": [],
   "source": [
    "bm_axis = cifti_series.header.get_axis(1)"
   ]
  },
  {
   "cell_type": "code",
   "execution_count": 30,
   "metadata": {},
   "outputs": [],
   "source": [
    "def check_continuity(my_list):\n",
    "    return all(a+1==b for a, b in zip(my_list, my_list[1:]))"
   ]
  },
  {
   "cell_type": "code",
   "execution_count": 32,
   "metadata": {},
   "outputs": [
    {
     "data": {
      "text/plain": [
       "False"
      ]
     },
     "execution_count": 32,
     "metadata": {},
     "output_type": "execute_result"
    }
   ],
   "source": [
    "check_continuity([0,1,2,,4])"
   ]
  },
  {
   "cell_type": "code",
   "execution_count": 35,
   "metadata": {},
   "outputs": [
    {
     "data": {
      "text/plain": [
       "True"
      ]
     },
     "execution_count": 35,
     "metadata": {},
     "output_type": "execute_result"
    }
   ],
   "source": [
    "any([False, False, False, True, True, False, True, False, False, False])"
   ]
  },
  {
   "cell_type": "code",
   "execution_count": 75,
   "metadata": {},
   "outputs": [],
   "source": [
    "import operator\n",
    "bm_axis.iter_structures()\n",
    "structures = np.array(list(map(operator.itemgetter(0), bm_axis.iter_structures())))"
   ]
  },
  {
   "cell_type": "code",
   "execution_count": 95,
   "metadata": {},
   "outputs": [],
   "source": [
    "structures_lower = np.char.replace(structures,old='CIFTI_STRUCTURE_',new='')"
   ]
  },
  {
   "cell_type": "code",
   "execution_count": 99,
   "metadata": {},
   "outputs": [
    {
     "data": {
      "text/plain": [
       "array(['CORTEX_LEFT', 'CORTEX_RIGHT', 'ACCUMBENS_LEFT', 'ACCUMBENS_RIGHT',\n",
       "       'AMYGDALA_LEFT', 'AMYGDALA_RIGHT', 'BRAIN_STEM', 'CAUDATE_LEFT',\n",
       "       'CAUDATE_RIGHT', 'CEREBELLUM_LEFT', 'CEREBELLUM_RIGHT',\n",
       "       'DIENCEPHALON_VENTRAL_LEFT', 'DIENCEPHALON_VENTRAL_RIGHT',\n",
       "       'HIPPOCAMPUS_LEFT', 'HIPPOCAMPUS_RIGHT', 'PALLIDUM_LEFT',\n",
       "       'PALLIDUM_RIGHT', 'PUTAMEN_LEFT', 'PUTAMEN_RIGHT', 'THALAMUS_LEFT',\n",
       "       'THALAMUS_RIGHT'], dtype='<U26')"
      ]
     },
     "execution_count": 99,
     "metadata": {},
     "output_type": "execute_result"
    }
   ],
   "source": [
    "structures_lower"
   ]
  },
  {
   "cell_type": "code",
   "execution_count": 83,
   "metadata": {},
   "outputs": [
    {
     "data": {
      "text/plain": [
       "array(['CIFTI_STRUCTURE_CORTEX_LEFT', 'CIFTI_STRUCTURE_CORTEX_RIGHT',\n",
       "       'CIFTI_STRUCTURE_ACCUMBENS_LEFT',\n",
       "       'CIFTI_STRUCTURE_ACCUMBENS_RIGHT', 'CIFTI_STRUCTURE_AMYGDALA_LEFT',\n",
       "       'CIFTI_STRUCTURE_AMYGDALA_RIGHT', 'CIFTI_STRUCTURE_BRAIN_STEM',\n",
       "       'CIFTI_STRUCTURE_CAUDATE_LEFT', 'CIFTI_STRUCTURE_CAUDATE_RIGHT',\n",
       "       'CIFTI_STRUCTURE_CEREBELLUM_LEFT',\n",
       "       'CIFTI_STRUCTURE_CEREBELLUM_RIGHT',\n",
       "       'CIFTI_STRUCTURE_DIENCEPHALON_VENTRAL_LEFT',\n",
       "       'CIFTI_STRUCTURE_DIENCEPHALON_VENTRAL_RIGHT',\n",
       "       'CIFTI_STRUCTURE_HIPPOCAMPUS_LEFT',\n",
       "       'CIFTI_STRUCTURE_HIPPOCAMPUS_RIGHT',\n",
       "       'CIFTI_STRUCTURE_PALLIDUM_LEFT', 'CIFTI_STRUCTURE_PALLIDUM_RIGHT',\n",
       "       'CIFTI_STRUCTURE_PUTAMEN_LEFT', 'CIFTI_STRUCTURE_PUTAMEN_RIGHT',\n",
       "       'CIFTI_STRUCTURE_THALAMUS_LEFT', 'CIFTI_STRUCTURE_THALAMUS_RIGHT'],\n",
       "      dtype='<U42')"
      ]
     },
     "execution_count": 83,
     "metadata": {},
     "output_type": "execute_result"
    }
   ],
   "source": [
    "np.array([i[0] for i in list(bm_axis.iter_structures())])"
   ]
  },
  {
   "cell_type": "code",
   "execution_count": 91,
   "metadata": {},
   "outputs": [
    {
     "name": "stderr",
     "output_type": "stream",
     "text": [
      "/Users/mohamedyousif/Documents/ohbm_hackathon2023/ciftipy/.venv/lib/python3.11/site-packages/thefuzz/fuzz.py:11: UserWarning: Using slow pure-python SequenceMatcher. Install python-Levenshtein to remove this warning\n",
      "  warnings.warn('Using slow pure-python SequenceMatcher. Install python-Levenshtein to remove this warning')\n"
     ]
    }
   ],
   "source": [
    "from thefuzz import fuzz \n",
    "from thefuzz import process"
   ]
  },
  {
   "cell_type": "code",
   "execution_count": 103,
   "metadata": {},
   "outputs": [
    {
     "data": {
      "text/plain": [
       "[('CORTEX_RIGHT', 90),\n",
       " ('ACCUMBENS_RIGHT', 90),\n",
       " ('AMYGDALA_RIGHT', 90),\n",
       " ('CAUDATE_RIGHT', 90),\n",
       " ('CEREBELLUM_RIGHT', 90)]"
      ]
     },
     "execution_count": 103,
     "metadata": {},
     "output_type": "execute_result"
    }
   ],
   "source": [
    "process.extract('right',structures_lower)"
   ]
  },
  {
   "cell_type": "code",
   "execution_count": null,
   "metadata": {},
   "outputs": [],
   "source": []
  },
  {
   "cell_type": "code",
   "execution_count": null,
   "metadata": {},
   "outputs": [],
   "source": []
  },
  {
   "cell_type": "code",
   "execution_count": 8,
   "metadata": {},
   "outputs": [
    {
     "data": {
      "text/plain": [
       "[<nibabel.cifti2.cifti2_axes.SeriesAxis at 0x115ce9f50>,\n",
       " <nibabel.cifti2.cifti2_axes.BrainModelAxis at 0x118cee2d0>]"
      ]
     },
     "execution_count": 8,
     "metadata": {},
     "output_type": "execute_result"
    }
   ],
   "source": [
    "axes = [cifti_series.header.get_axis(i) for i in range(cifti_series.ndim)]\n",
    "axes"
   ]
  },
  {
   "cell_type": "code",
   "execution_count": 9,
   "metadata": {},
   "outputs": [
    {
     "data": {
      "text/plain": [
       "<nibabel.cifti2.cifti2_axes.BrainModelAxis at 0x118cee2d0>"
      ]
     },
     "execution_count": 9,
     "metadata": {},
     "output_type": "execute_result"
    }
   ],
   "source": [
    "[element for element in axes if isinstance(element, nb.cifti2.cifti2_axes.BrainModelAxis)][0]"
   ]
  },
  {
   "cell_type": "code",
   "execution_count": 10,
   "metadata": {},
   "outputs": [
    {
     "data": {
      "text/plain": [
       "'SECOND'"
      ]
     },
     "execution_count": 10,
     "metadata": {},
     "output_type": "execute_result"
    }
   ],
   "source": [
    "axes[0].unit # https://nipy.org/nibabel/reference/nibabel.cifti2.html#nibabel.cifti2.cifti2_axes.SeriesAxis"
   ]
  },
  {
   "cell_type": "code",
   "execution_count": 134,
   "metadata": {},
   "outputs": [
    {
     "data": {
      "text/plain": [
       "[('CIFTI_STRUCTURE_CORTEX_LEFT',\n",
       "  slice(0, 29696, None),\n",
       "  <nibabel.cifti2.cifti2_axes.BrainModelAxis at 0x7f354c037b80>),\n",
       " ('CIFTI_STRUCTURE_CORTEX_RIGHT',\n",
       "  slice(29696, 59412, None),\n",
       "  <nibabel.cifti2.cifti2_axes.BrainModelAxis at 0x7f35740f6410>),\n",
       " ('CIFTI_STRUCTURE_ACCUMBENS_LEFT',\n",
       "  slice(59412, 59547, None),\n",
       "  <nibabel.cifti2.cifti2_axes.BrainModelAxis at 0x7f35740f75e0>),\n",
       " ('CIFTI_STRUCTURE_ACCUMBENS_RIGHT',\n",
       "  slice(59547, 59687, None),\n",
       "  <nibabel.cifti2.cifti2_axes.BrainModelAxis at 0x7f35740f52a0>),\n",
       " ('CIFTI_STRUCTURE_AMYGDALA_LEFT',\n",
       "  slice(59687, 60002, None),\n",
       "  <nibabel.cifti2.cifti2_axes.BrainModelAxis at 0x7f35740f45e0>),\n",
       " ('CIFTI_STRUCTURE_AMYGDALA_RIGHT',\n",
       "  slice(60002, 60334, None),\n",
       "  <nibabel.cifti2.cifti2_axes.BrainModelAxis at 0x7f35740f7e20>),\n",
       " ('CIFTI_STRUCTURE_BRAIN_STEM',\n",
       "  slice(60334, 63806, None),\n",
       "  <nibabel.cifti2.cifti2_axes.BrainModelAxis at 0x7f35740f6c80>),\n",
       " ('CIFTI_STRUCTURE_CAUDATE_LEFT',\n",
       "  slice(63806, 64534, None),\n",
       "  <nibabel.cifti2.cifti2_axes.BrainModelAxis at 0x7f35740f4670>),\n",
       " ('CIFTI_STRUCTURE_CAUDATE_RIGHT',\n",
       "  slice(64534, 65289, None),\n",
       "  <nibabel.cifti2.cifti2_axes.BrainModelAxis at 0x7f354c0bcd60>),\n",
       " ('CIFTI_STRUCTURE_CEREBELLUM_LEFT',\n",
       "  slice(65289, 73998, None),\n",
       "  <nibabel.cifti2.cifti2_axes.BrainModelAxis at 0x7f354c0bf6d0>),\n",
       " ('CIFTI_STRUCTURE_CEREBELLUM_RIGHT',\n",
       "  slice(73998, 83142, None),\n",
       "  <nibabel.cifti2.cifti2_axes.BrainModelAxis at 0x7f354c0bfd60>),\n",
       " ('CIFTI_STRUCTURE_DIENCEPHALON_VENTRAL_LEFT',\n",
       "  slice(83142, 83848, None),\n",
       "  <nibabel.cifti2.cifti2_axes.BrainModelAxis at 0x7f354c1e3640>),\n",
       " ('CIFTI_STRUCTURE_DIENCEPHALON_VENTRAL_RIGHT',\n",
       "  slice(83848, 84560, None),\n",
       "  <nibabel.cifti2.cifti2_axes.BrainModelAxis at 0x7f354b765cc0>),\n",
       " ('CIFTI_STRUCTURE_HIPPOCAMPUS_LEFT',\n",
       "  slice(84560, 85324, None),\n",
       "  <nibabel.cifti2.cifti2_axes.BrainModelAxis at 0x7f354c1ec280>),\n",
       " ('CIFTI_STRUCTURE_HIPPOCAMPUS_RIGHT',\n",
       "  slice(85324, 86119, None),\n",
       "  <nibabel.cifti2.cifti2_axes.BrainModelAxis at 0x7f354c0c1390>),\n",
       " ('CIFTI_STRUCTURE_PALLIDUM_LEFT',\n",
       "  slice(86119, 86416, None),\n",
       "  <nibabel.cifti2.cifti2_axes.BrainModelAxis at 0x7f354c0b7f40>),\n",
       " ('CIFTI_STRUCTURE_PALLIDUM_RIGHT',\n",
       "  slice(86416, 86676, None),\n",
       "  <nibabel.cifti2.cifti2_axes.BrainModelAxis at 0x7f354c0b7910>),\n",
       " ('CIFTI_STRUCTURE_PUTAMEN_LEFT',\n",
       "  slice(86676, 87736, None),\n",
       "  <nibabel.cifti2.cifti2_axes.BrainModelAxis at 0x7f354c0b6020>),\n",
       " ('CIFTI_STRUCTURE_PUTAMEN_RIGHT',\n",
       "  slice(87736, 88746, None),\n",
       "  <nibabel.cifti2.cifti2_axes.BrainModelAxis at 0x7f354c0b48e0>),\n",
       " ('CIFTI_STRUCTURE_THALAMUS_LEFT',\n",
       "  slice(88746, 90034, None),\n",
       "  <nibabel.cifti2.cifti2_axes.BrainModelAxis at 0x7f354c0b5030>),\n",
       " ('CIFTI_STRUCTURE_THALAMUS_RIGHT',\n",
       "  slice(90034, None, None),\n",
       "  <nibabel.cifti2.cifti2_axes.BrainModelAxis at 0x7f354c0b73d0>)]"
      ]
     },
     "execution_count": 134,
     "metadata": {},
     "output_type": "execute_result"
    }
   ],
   "source": [
    "list(axes[1].iter_structures())# https://nipy.org/nibabel/reference/nibabel.cifti2.html#nibabel.cifti2.cifti2_axes.BrainModelAxis"
   ]
  },
  {
   "cell_type": "code",
   "execution_count": 39,
   "metadata": {},
   "outputs": [
    {
     "data": {
      "text/plain": [
       "(91282,)"
      ]
     },
     "execution_count": 39,
     "metadata": {},
     "output_type": "execute_result"
    }
   ],
   "source": [
    "axes[1].name.shape"
   ]
  },
  {
   "cell_type": "code",
   "execution_count": 130,
   "metadata": {},
   "outputs": [
    {
     "name": "stdout",
     "output_type": "stream",
     "text": [
      "59412\n"
     ]
    }
   ],
   "source": [
    "caca = axes[1].voxel[:,0]\n",
    "print(len(caca)- len(caca[caca!=-1]))"
   ]
  },
  {
   "cell_type": "code",
   "execution_count": 132,
   "metadata": {},
   "outputs": [
    {
     "data": {
      "text/plain": [
       "59412"
      ]
     },
     "execution_count": 132,
     "metadata": {},
     "output_type": "execute_result"
    }
   ],
   "source": [
    "vertexidx = axes[1].vertex\n",
    "vertexidx = vertexidx[vertexidx!=-1]\n",
    "len(vertexidx)"
   ]
  },
  {
   "cell_type": "code",
   "execution_count": 140,
   "metadata": {},
   "outputs": [
    {
     "data": {
      "text/plain": [
       "array([0, 0])"
      ]
     },
     "execution_count": 140,
     "metadata": {},
     "output_type": "execute_result"
    }
   ],
   "source": [
    "vertexidx[vertexidx==0]"
   ]
  },
  {
   "cell_type": "code",
   "execution_count": 155,
   "metadata": {},
   "outputs": [
    {
     "data": {
      "text/plain": [
       "array([[-1, -1, -1],\n",
       "       [-1, -1, -1],\n",
       "       [-1, -1, -1],\n",
       "       ...,\n",
       "       [45, 56, 38],\n",
       "       [45, 56, 40],\n",
       "       [45, 56, 41]])"
      ]
     },
     "execution_count": 155,
     "metadata": {},
     "output_type": "execute_result"
    }
   ],
   "source": [
    "axes[1].voxel"
   ]
  },
  {
   "cell_type": "code",
   "execution_count": 156,
   "metadata": {},
   "outputs": [
    {
     "data": {
      "text/plain": [
       "91282"
      ]
     },
     "execution_count": 156,
     "metadata": {},
     "output_type": "execute_result"
    }
   ],
   "source": [
    "a = axes[1].vertex\n",
    "b = axes[1].voxel[:,0]\n",
    "len(a[a!=-1]) +len(b[b!=-1])"
   ]
  },
  {
   "cell_type": "code",
   "execution_count": 125,
   "metadata": {},
   "outputs": [
    {
     "data": {
      "text/plain": [
       "31870"
      ]
     },
     "execution_count": 125,
     "metadata": {},
     "output_type": "execute_result"
    }
   ],
   "source": [
    "voxels = axes[1].voxel[:,0]\n",
    "len(voxels[voxels!=-1])"
   ]
  },
  {
   "cell_type": "code",
   "execution_count": 110,
   "metadata": {},
   "outputs": [
    {
     "data": {
      "text/plain": [
       "array([-1, 18, 19, 20, 21, 22, 23, 24, 25, 26, 27, 28, 29, 30, 31, 32, 33,\n",
       "       34, 35, 36, 37, 38, 39, 40, 41, 42, 43, 44, 45, 46, 47, 48, 49, 50,\n",
       "       51, 52, 53, 54, 55, 56, 57, 58, 59, 60, 61, 62, 63, 64, 65, 66, 67,\n",
       "       68, 69, 70, 71, 72])"
      ]
     },
     "execution_count": 110,
     "metadata": {},
     "output_type": "execute_result"
    }
   ],
   "source": [
    "voxelsid = np.unique(axes[1].voxel[:,0])\n",
    "voxelsid"
   ]
  },
  {
   "cell_type": "code",
   "execution_count": 147,
   "metadata": {},
   "outputs": [
    {
     "data": {
      "text/plain": [
       "(91282, 3)"
      ]
     },
     "execution_count": 147,
     "metadata": {},
     "output_type": "execute_result"
    }
   ],
   "source": [
    "axes[1].voxel.shape"
   ]
  },
  {
   "cell_type": "code",
   "execution_count": null,
   "metadata": {},
   "outputs": [],
   "source": []
  },
  {
   "cell_type": "code",
   "execution_count": 112,
   "metadata": {},
   "outputs": [
    {
     "data": {
      "text/plain": [
       "10"
      ]
     },
     "execution_count": 112,
     "metadata": {},
     "output_type": "execute_result"
    }
   ],
   "source": [
    "slice(1,10,2).stop"
   ]
  },
  {
   "cell_type": "code",
   "execution_count": 113,
   "metadata": {},
   "outputs": [
    {
     "data": {
      "text/plain": [
       "True"
      ]
     },
     "execution_count": 113,
     "metadata": {},
     "output_type": "execute_result"
    }
   ],
   "source": [
    "4 in range(2,8)"
   ]
  },
  {
   "cell_type": "code",
   "execution_count": 72,
   "metadata": {},
   "outputs": [],
   "source": [
    "import numpy as np\n",
    "import nibabel as nb\n",
    "from nibabel.cifti2 import cifti2\n",
    "from typing import Any, Mapping, Sequence, SupportsIndex, TypeAlias, TypeVar\n",
    "\n",
    "\n",
    "class CiftiImg:\n",
    "    def __init__(self, cifti: cifti2.Cifti2Image):\n",
    "        self.nibabel_obj = cifti\n",
    "    \n",
    "    @property\n",
    "    def shape(self):\n",
    "        return self.nibabel_obj.shape\n",
    "\n",
    "    def __getitem__(self, __index):\n",
    "        # Get the data\n",
    "        data = self.nibabel_obj.get_fdata()\n",
    "        # Index the dataobj\n",
    "        new_data = data[__index]\n",
    "        # Update the header\n",
    "\n",
    "        # Construct a new object\n",
    "        new_nb_obj =  nb.cifti2.Cifti2Image(new_data, self.nibabel_obj.header,\n",
    "                                            self.nibabel_obj.nifti_header,\n",
    "                                            self.nibabel_obj.extra,\n",
    "                                            self.nibabel_obj.file_map)\n",
    "        return CiftiImg(new_nb_obj)"
   ]
  },
  {
   "cell_type": "code",
   "execution_count": 73,
   "metadata": {},
   "outputs": [],
   "source": [
    "caca = CiftiImg(cifti_series)"
   ]
  },
  {
   "cell_type": "code",
   "execution_count": 74,
   "metadata": {},
   "outputs": [
    {
     "name": "stderr",
     "output_type": "stream",
     "text": [
      "/home/mcespedes/Documents/code/test-folder/venv/lib/python3.10/site-packages/nibabel/cifti2/cifti2.py:1466: UserWarning: Dataobj shape (10, 91282) does not match shape expected from CIFTI-2 header (300, 91282)\n",
      "  warn(\n"
     ]
    }
   ],
   "source": [
    "lolo = caca.__getitem__(slice(0,10))"
   ]
  },
  {
   "cell_type": "code",
   "execution_count": 75,
   "metadata": {},
   "outputs": [
    {
     "data": {
      "text/plain": [
       "(10, 91282)"
      ]
     },
     "execution_count": 75,
     "metadata": {},
     "output_type": "execute_result"
    }
   ],
   "source": [
    "lolo.shape"
   ]
  },
  {
   "cell_type": "markdown",
   "metadata": {},
   "source": [
    "## dscalar"
   ]
  },
  {
   "cell_type": "code",
   "execution_count": 1,
   "metadata": {},
   "outputs": [],
   "source": [
    "fname_scalar = './ses-coco_task-coco_run-1_Atlas_hp128_s4.dscalar.nii'"
   ]
  },
  {
   "cell_type": "code",
   "execution_count": 2,
   "metadata": {},
   "outputs": [
    {
     "ename": "NameError",
     "evalue": "name 'nb' is not defined",
     "output_type": "error",
     "traceback": [
      "\u001b[0;31m---------------------------------------------------------------------------\u001b[0m",
      "\u001b[0;31mNameError\u001b[0m                                 Traceback (most recent call last)",
      "Cell \u001b[0;32mIn[2], line 1\u001b[0m\n\u001b[0;32m----> 1\u001b[0m cifti_scalar \u001b[39m=\u001b[39m nb\u001b[39m.\u001b[39mload(fname_scalar)\n\u001b[1;32m      2\u001b[0m \u001b[39mtype\u001b[39m(cifti_scalar)\n",
      "\u001b[0;31mNameError\u001b[0m: name 'nb' is not defined"
     ]
    }
   ],
   "source": [
    "cifti_scalar = nb.load(fname_scalar)\n",
    "type(cifti_scalar)"
   ]
  },
  {
   "cell_type": "code",
   "execution_count": 51,
   "metadata": {},
   "outputs": [
    {
     "data": {
      "text/plain": [
       "(1, 14524)"
      ]
     },
     "execution_count": 51,
     "metadata": {},
     "output_type": "execute_result"
    }
   ],
   "source": [
    "cifti_scalar.get_fdata().shape"
   ]
  },
  {
   "cell_type": "code",
   "execution_count": 52,
   "metadata": {},
   "outputs": [
    {
     "data": {
      "text/plain": [
       "[<nibabel.cifti2.cifti2_axes.ScalarAxis at 0x7f6ab0460310>,\n",
       " <nibabel.cifti2.cifti2_axes.BrainModelAxis at 0x7f6a9034c7c0>]"
      ]
     },
     "execution_count": 52,
     "metadata": {},
     "output_type": "execute_result"
    }
   ],
   "source": [
    "axes = [cifti_scalar.header.get_axis(i) for i in range(cifti_scalar.ndim)]\n",
    "axes"
   ]
  },
  {
   "cell_type": "code",
   "execution_count": 53,
   "metadata": {},
   "outputs": [
    {
     "data": {
      "text/plain": [
       "array(['mean curvature'], dtype='<U14')"
      ]
     },
     "execution_count": 53,
     "metadata": {},
     "output_type": "execute_result"
    }
   ],
   "source": [
    "axes[0].name # https://nipy.org/nibabel/reference/nibabel.cifti2.html#nibabel.cifti2.cifti2_axes.ScalarAxis"
   ]
  },
  {
   "cell_type": "code",
   "execution_count": 255,
   "metadata": {},
   "outputs": [
    {
     "data": {
      "text/plain": [
       "91282"
      ]
     },
     "execution_count": 255,
     "metadata": {},
     "output_type": "execute_result"
    }
   ],
   "source": [
    "axes[1].size"
   ]
  },
  {
   "cell_type": "code",
   "execution_count": 225,
   "metadata": {},
   "outputs": [],
   "source": [
    "import yaml\n",
    "from yaml.loader import SafeLoader"
   ]
  },
  {
   "cell_type": "code",
   "execution_count": 190,
   "metadata": {},
   "outputs": [
    {
     "data": {
      "text/plain": [
       "array(['CIFTI_STRUCTURE_CORTEX_LEFT', 'CIFTI_STRUCTURE_CORTEX_RIGHT',\n",
       "       'CIFTI_STRUCTURE_ACCUMBENS_LEFT',\n",
       "       'CIFTI_STRUCTURE_ACCUMBENS_RIGHT', 'CIFTI_STRUCTURE_AMYGDALA_LEFT',\n",
       "       'CIFTI_STRUCTURE_AMYGDALA_RIGHT', 'CIFTI_STRUCTURE_BRAIN_STEM',\n",
       "       'CIFTI_STRUCTURE_CAUDATE_LEFT', 'CIFTI_STRUCTURE_CAUDATE_RIGHT',\n",
       "       'CIFTI_STRUCTURE_CEREBELLUM_LEFT',\n",
       "       'CIFTI_STRUCTURE_CEREBELLUM_RIGHT',\n",
       "       'CIFTI_STRUCTURE_DIENCEPHALON_VENTRAL_LEFT',\n",
       "       'CIFTI_STRUCTURE_DIENCEPHALON_VENTRAL_RIGHT',\n",
       "       'CIFTI_STRUCTURE_HIPPOCAMPUS_LEFT',\n",
       "       'CIFTI_STRUCTURE_HIPPOCAMPUS_RIGHT',\n",
       "       'CIFTI_STRUCTURE_PALLIDUM_LEFT', 'CIFTI_STRUCTURE_PALLIDUM_RIGHT',\n",
       "       'CIFTI_STRUCTURE_PUTAMEN_LEFT', 'CIFTI_STRUCTURE_PUTAMEN_RIGHT',\n",
       "       'CIFTI_STRUCTURE_THALAMUS_LEFT', 'CIFTI_STRUCTURE_THALAMUS_RIGHT'],\n",
       "      dtype='<U42')"
      ]
     },
     "execution_count": 190,
     "metadata": {},
     "output_type": "execute_result"
    }
   ],
   "source": [
    "structures"
   ]
  },
  {
   "cell_type": "code",
   "execution_count": 227,
   "metadata": {},
   "outputs": [],
   "source": [
    "with open('../ciftipy/search_tokens.yaml') as f:\n",
    "    search_tokens = yaml.load(f, Loader=SafeLoader)"
   ]
  },
  {
   "cell_type": "code",
   "execution_count": 229,
   "metadata": {},
   "outputs": [],
   "source": [
    "search_tokens['token_other'] = set(search_tokens['token_other'])"
   ]
  },
  {
   "cell_type": "code",
   "execution_count": 239,
   "metadata": {},
   "outputs": [],
   "source": [
    "for key in search_tokens.keys(): search_tokens[key] = set(search_tokens[key])"
   ]
  },
  {
   "cell_type": "code",
   "execution_count": 169,
   "metadata": {},
   "outputs": [],
   "source": [
    "struct_name_array = np.array(list(map(operator.itemgetter(0), process.extract('right',structures,limit=None))))\n",
    "struct_score_array = np.array(list(map(operator.itemgetter(1), process.extract('right',structures,limit=None))))"
   ]
  },
  {
   "cell_type": "code",
   "execution_count": 248,
   "metadata": {},
   "outputs": [
    {
     "data": {
      "text/plain": [
       "['__abstractmethods__',\n",
       " '__add__',\n",
       " '__class__',\n",
       " '__delattr__',\n",
       " '__dict__',\n",
       " '__dir__',\n",
       " '__doc__',\n",
       " '__eq__',\n",
       " '__format__',\n",
       " '__ge__',\n",
       " '__getattribute__',\n",
       " '__getitem__',\n",
       " '__getstate__',\n",
       " '__gt__',\n",
       " '__hash__',\n",
       " '__init__',\n",
       " '__init_subclass__',\n",
       " '__le__',\n",
       " '__len__',\n",
       " '__lt__',\n",
       " '__module__',\n",
       " '__ne__',\n",
       " '__new__',\n",
       " '__reduce__',\n",
       " '__reduce_ex__',\n",
       " '__repr__',\n",
       " '__setattr__',\n",
       " '__sizeof__',\n",
       " '__slots__',\n",
       " '__str__',\n",
       " '__subclasshook__',\n",
       " '__weakref__',\n",
       " '_abc_impl',\n",
       " '_affine',\n",
       " '_name',\n",
       " '_volume_shape',\n",
       " 'affine',\n",
       " 'from_index_mapping',\n",
       " 'from_mask',\n",
       " 'from_surface',\n",
       " 'get_element',\n",
       " 'iter_structures',\n",
       " 'name',\n",
       " 'nvertices',\n",
       " 'size',\n",
       " 'surface_mask',\n",
       " 'to_cifti_brain_structure_name',\n",
       " 'to_mapping',\n",
       " 'vertex',\n",
       " 'volume_mask',\n",
       " 'volume_shape',\n",
       " 'voxel']"
      ]
     },
     "execution_count": 248,
     "metadata": {},
     "output_type": "execute_result"
    }
   ],
   "source": [
    "dir(bm_axis)\n"
   ]
  },
  {
   "cell_type": "code",
   "execution_count": 243,
   "metadata": {},
   "outputs": [
    {
     "data": {
      "text/plain": [
       "operator.itemgetter('CIFTI_STRUCTURE_THALAMUS_LEFT', 'CIFTI_STRUCTURE_AMYGDALA_RIGHT', 'CIFTI_STRUCTURE_DIENCEPHALON_VENTRAL_LEFT', 'CIFTI_STRUCTURE_PALLIDUM_RIGHT', 'CIFTI_STRUCTURE_CORTEX_RIGHT', 'CIFTI_STRUCTURE_PALLIDUM_LEFT', 'CIFTI_STRUCTURE_ACCUMBENS_RIGHT', 'CIFTI_STRUCTURE_CEREBELLUM_LEFT', 'CIFTI_STRUCTURE_AMYGDALA_LEFT', 'CIFTI_STRUCTURE_CEREBELLUM_RIGHT', 'CIFTI_STRUCTURE_DIENCEPHALON_VENTRAL_RIGHT', 'CIFTI_STRUCTURE_PUTAMEN_RIGHT', 'CIFTI_STRUCTURE_CAUDATE_RIGHT', 'CIFTI_STRUCTURE_PUTAMEN_LEFT', 'CIFTI_STRUCTURE_CAUDATE_LEFT', 'CIFTI_STRUCTURE_CORTEX_LEFT', 'CIFTI_STRUCTURE_BRAIN_STEM', 'CIFTI_STRUCTURE_HIPPOCAMPUS_LEFT', 'CIFTI_STRUCTURE_HIPPOCAMPUS_RIGHT', 'CIFTI_STRUCTURE_ACCUMBENS_LEFT', 'CIFTI_STRUCTURE_THALAMUS_RIGHT')"
      ]
     },
     "execution_count": 243,
     "metadata": {},
     "output_type": "execute_result"
    }
   ],
   "source": [
    "operator.itemgetter(*set(struct_name_array))"
   ]
  },
  {
   "cell_type": "code",
   "execution_count": 290,
   "metadata": {},
   "outputs": [
    {
     "data": {
      "text/plain": [
       "[('right', 45), ('left', 45)]"
      ]
     },
     "execution_count": 290,
     "metadata": {},
     "output_type": "execute_result"
    }
   ],
   "source": [
    "process.extract('rl',('right','left'),limit=None)"
   ]
  },
  {
   "cell_type": "code",
   "execution_count": 198,
   "metadata": {},
   "outputs": [],
   "source": [
    "right = []\n",
    "left = []\n",
    "other = []\n",
    "\n",
    "for i in 'CIFTI_STRUCTURE_ACCUMBENS_LEFT CIFTI_STRUCTURE_ACCUMBENS_RIGHT CIFTI_STRUCTURE_ALL_WHITE_MATTER CIFTI_STRUCTURE_ALL_GREY_MATTER CIFTI_STRUCTURE_AMYGDALA_LEFT CIFTI_STRUCTURE_AMYGDALA_RIGHT CIFTI_STRUCTURE_BRAIN_STEM CIFTI_STRUCTURE_CAUDATE_LEFT CIFTI_STRUCTURE_CAUDATE_RIGHT CIFTI_STRUCTURE_CEREBELLAR_WHITE_MATTER_LEFT CIFTI_STRUCTURE_CEREBELLAR_WHITE_MATTER_RIGHT CIFTI_STRUCTURE_CEREBELLUM CIFTI_STRUCTURE_CEREBELLUM_LEFT CIFTI_STRUCTURE_CEREBELLUM_RIGHT CIFTI_STRUCTURE_CEREBRAL_WHITE_MATTER_LEFT CIFTI_STRUCTURE_CEREBRAL_WHITE_MATTER_RIGHT CIFTI_STRUCTURE_CORTEX CIFTI_STRUCTURE_CORTEX_LEFT CIFTI_STRUCTURE_CORTEX_RIGHT CIFTI_STRUCTURE_DIENCEPHALON_VENTRAL_LEFT CIFTI_STRUCTURE_DIENCEPHALON_VENTRAL_RIGHT CIFTI_STRUCTURE_HIPPOCAMPUS_LEFT CIFTI_STRUCTURE_HIPPOCAMPUS_RIGHT CIFTI_STRUCTURE_OTHER CIFTI_STRUCTURE_OTHER_GREY_MATTER CIFTI_STRUCTURE_OTHER_WHITE_MATTER CIFTI_STRUCTURE_PALLIDUM_LEFT CIFTI_STRUCTURE_PALLIDUM_RIGHT CIFTI_STRUCTURE_PUTAMEN_LEFT CIFTI_STRUCTURE_PUTAMEN_RIGHT CIFTI_STRUCTURE_THALAMUS_LEFT CIFTI_STRUCTURE_THALAMUS_RIGHT'.split(' '):\n",
    "    if 'RIGHT'in i:\n",
    "        right.append(i)\n",
    "    elif 'LEFT' in i:\n",
    "        left.append(i)\n",
    "    else:\n",
    "        other.append(i)"
   ]
  },
  {
   "cell_type": "code",
   "execution_count": 284,
   "metadata": {},
   "outputs": [],
   "source": [
    "tokens = {'token_right':right,\n",
    " 'token_left':left,\n",
    " 'token_no_hemi_label':list(np.char.replace(np.array(tokens['token_right']),'_RIGHT','')),\n",
    " 'token_other':other}"
   ]
  },
  {
   "cell_type": "code",
   "execution_count": 286,
   "metadata": {},
   "outputs": [
    {
     "data": {
      "text/plain": [
       "{'token_right': ['CIFTI_STRUCTURE_ACCUMBENS_RIGHT',\n",
       "  'CIFTI_STRUCTURE_AMYGDALA_RIGHT',\n",
       "  'CIFTI_STRUCTURE_CAUDATE_RIGHT',\n",
       "  'CIFTI_STRUCTURE_CEREBELLAR_WHITE_MATTER_RIGHT',\n",
       "  'CIFTI_STRUCTURE_CEREBELLUM_RIGHT',\n",
       "  'CIFTI_STRUCTURE_CEREBRAL_WHITE_MATTER_RIGHT',\n",
       "  'CIFTI_STRUCTURE_CORTEX_RIGHT',\n",
       "  'CIFTI_STRUCTURE_DIENCEPHALON_VENTRAL_RIGHT',\n",
       "  'CIFTI_STRUCTURE_HIPPOCAMPUS_RIGHT',\n",
       "  'CIFTI_STRUCTURE_PALLIDUM_RIGHT',\n",
       "  'CIFTI_STRUCTURE_PUTAMEN_RIGHT',\n",
       "  'CIFTI_STRUCTURE_THALAMUS_RIGHT'],\n",
       " 'token_left': ['CIFTI_STRUCTURE_ACCUMBENS_LEFT',\n",
       "  'CIFTI_STRUCTURE_AMYGDALA_LEFT',\n",
       "  'CIFTI_STRUCTURE_CAUDATE_LEFT',\n",
       "  'CIFTI_STRUCTURE_CEREBELLAR_WHITE_MATTER_LEFT',\n",
       "  'CIFTI_STRUCTURE_CEREBELLUM_LEFT',\n",
       "  'CIFTI_STRUCTURE_CEREBRAL_WHITE_MATTER_LEFT',\n",
       "  'CIFTI_STRUCTURE_CORTEX_LEFT',\n",
       "  'CIFTI_STRUCTURE_DIENCEPHALON_VENTRAL_LEFT',\n",
       "  'CIFTI_STRUCTURE_HIPPOCAMPUS_LEFT',\n",
       "  'CIFTI_STRUCTURE_PALLIDUM_LEFT',\n",
       "  'CIFTI_STRUCTURE_PUTAMEN_LEFT',\n",
       "  'CIFTI_STRUCTURE_THALAMUS_LEFT'],\n",
       " 'token_no_hemi_label': ['CIFTI_STRUCTURE_ACCUMBENS',\n",
       "  'CIFTI_STRUCTURE_AMYGDALA',\n",
       "  'CIFTI_STRUCTURE_CAUDATE',\n",
       "  'CIFTI_STRUCTURE_CEREBELLAR_WHITE_MATTER',\n",
       "  'CIFTI_STRUCTURE_CEREBELLUM',\n",
       "  'CIFTI_STRUCTURE_CEREBRAL_WHITE_MATTER',\n",
       "  'CIFTI_STRUCTURE_CORTEX',\n",
       "  'CIFTI_STRUCTURE_DIENCEPHALON_VENTRAL',\n",
       "  'CIFTI_STRUCTURE_HIPPOCAMPUS',\n",
       "  'CIFTI_STRUCTURE_PALLIDUM',\n",
       "  'CIFTI_STRUCTURE_PUTAMEN',\n",
       "  'CIFTI_STRUCTURE_THALAMUS'],\n",
       " 'token_other': ['CIFTI_STRUCTURE_ALL_WHITE_MATTER',\n",
       "  'CIFTI_STRUCTURE_ALL_GREY_MATTER',\n",
       "  'CIFTI_STRUCTURE_BRAIN_STEM',\n",
       "  'CIFTI_STRUCTURE_CEREBELLUM',\n",
       "  'CIFTI_STRUCTURE_CORTEX',\n",
       "  'CIFTI_STRUCTURE_OTHER',\n",
       "  'CIFTI_STRUCTURE_OTHER_GREY_MATTER',\n",
       "  'CIFTI_STRUCTURE_OTHER_WHITE_MATTER']}"
      ]
     },
     "execution_count": 286,
     "metadata": {},
     "output_type": "execute_result"
    }
   ],
   "source": [
    "tokens"
   ]
  },
  {
   "cell_type": "code",
   "execution_count": 285,
   "metadata": {},
   "outputs": [],
   "source": [
    "file =open('search_tokens.yaml','w')\n",
    "yaml.dump(tokens,file)\n",
    "file.close()"
   ]
  },
  {
   "cell_type": "code",
   "execution_count": null,
   "metadata": {},
   "outputs": [],
   "source": []
  },
  {
   "cell_type": "code",
   "execution_count": 282,
   "metadata": {},
   "outputs": [
    {
     "data": {
      "text/plain": [
       "['CIFTI_STRUCTURE_ACCUMBENS',\n",
       " 'CIFTI_STRUCTURE_AMYGDALA',\n",
       " 'CIFTI_STRUCTURE_CAUDATE',\n",
       " 'CIFTI_STRUCTURE_CEREBELLAR_WHITE_MATTER',\n",
       " 'CIFTI_STRUCTURE_CEREBELLUM',\n",
       " 'CIFTI_STRUCTURE_CEREBRAL_WHITE_MATTER',\n",
       " 'CIFTI_STRUCTURE_CORTEX',\n",
       " 'CIFTI_STRUCTURE_DIENCEPHALON_VENTRAL',\n",
       " 'CIFTI_STRUCTURE_HIPPOCAMPUS',\n",
       " 'CIFTI_STRUCTURE_PALLIDUM',\n",
       " 'CIFTI_STRUCTURE_PUTAMEN',\n",
       " 'CIFTI_STRUCTURE_THALAMUS']"
      ]
     },
     "execution_count": 282,
     "metadata": {},
     "output_type": "execute_result"
    }
   ],
   "source": [
    "list(np.char.replace(np.array(tokens['token_right']),'_RIGHT',''))"
   ]
  },
  {
   "cell_type": "code",
   "execution_count": 277,
   "metadata": {},
   "outputs": [],
   "source": [
    "scores = process.extract('right',tokens['token_right']+tokens['token_left']+tokens['token_other'],limit=None)"
   ]
  },
  {
   "cell_type": "code",
   "execution_count": 289,
   "metadata": {},
   "outputs": [
    {
     "data": {
      "text/plain": [
       "['CIFTI_STRUCTURE_ACCUMBENS_RIGHT',\n",
       " 'CIFTI_STRUCTURE_AMYGDALA_RIGHT',\n",
       " 'CIFTI_STRUCTURE_CAUDATE_RIGHT',\n",
       " 'CIFTI_STRUCTURE_CEREBELLAR_WHITE_MATTER_RIGHT',\n",
       " 'CIFTI_STRUCTURE_CEREBELLUM_RIGHT',\n",
       " 'CIFTI_STRUCTURE_CEREBRAL_WHITE_MATTER_RIGHT',\n",
       " 'CIFTI_STRUCTURE_CORTEX_RIGHT',\n",
       " 'CIFTI_STRUCTURE_DIENCEPHALON_VENTRAL_RIGHT',\n",
       " 'CIFTI_STRUCTURE_HIPPOCAMPUS_RIGHT',\n",
       " 'CIFTI_STRUCTURE_PALLIDUM_RIGHT',\n",
       " 'CIFTI_STRUCTURE_PUTAMEN_RIGHT',\n",
       " 'CIFTI_STRUCTURE_THALAMUS_RIGHT',\n",
       " 'CIFTI_STRUCTURE_ACCUMBENS_LEFT',\n",
       " 'CIFTI_STRUCTURE_AMYGDALA_LEFT',\n",
       " 'CIFTI_STRUCTURE_CAUDATE_LEFT',\n",
       " 'CIFTI_STRUCTURE_CEREBELLAR_WHITE_MATTER_LEFT',\n",
       " 'CIFTI_STRUCTURE_CEREBELLUM_LEFT',\n",
       " 'CIFTI_STRUCTURE_CEREBRAL_WHITE_MATTER_LEFT',\n",
       " 'CIFTI_STRUCTURE_CORTEX_LEFT',\n",
       " 'CIFTI_STRUCTURE_DIENCEPHALON_VENTRAL_LEFT',\n",
       " 'CIFTI_STRUCTURE_HIPPOCAMPUS_LEFT',\n",
       " 'CIFTI_STRUCTURE_PALLIDUM_LEFT',\n",
       " 'CIFTI_STRUCTURE_PUTAMEN_LEFT',\n",
       " 'CIFTI_STRUCTURE_THALAMUS_LEFT',\n",
       " 'CIFTI_STRUCTURE_ALL_WHITE_MATTER',\n",
       " 'CIFTI_STRUCTURE_ALL_GREY_MATTER',\n",
       " 'CIFTI_STRUCTURE_BRAIN_STEM',\n",
       " 'CIFTI_STRUCTURE_CEREBELLUM',\n",
       " 'CIFTI_STRUCTURE_CORTEX',\n",
       " 'CIFTI_STRUCTURE_OTHER',\n",
       " 'CIFTI_STRUCTURE_OTHER_GREY_MATTER',\n",
       " 'CIFTI_STRUCTURE_OTHER_WHITE_MATTER']"
      ]
     },
     "execution_count": 289,
     "metadata": {},
     "output_type": "execute_result"
    }
   ],
   "source": [
    "tokens['token_right']+tokens['token_left']+tokens['token_other']"
   ]
  },
  {
   "cell_type": "code",
   "execution_count": 287,
   "metadata": {},
   "outputs": [
    {
     "data": {
      "text/plain": [
       "array([90, 90, 90, 90, 90, 90, 90, 90, 90, 60, 60, 60, 36, 36, 36, 36, 36,\n",
       "       36, 36, 36, 36, 36, 36, 36, 36, 36, 36, 36, 36, 24, 24, 24])"
      ]
     },
     "execution_count": 287,
     "metadata": {},
     "output_type": "execute_result"
    }
   ],
   "source": [
    "np.array(list(map(operator.itemgetter(1),scores)))"
   ]
  },
  {
   "cell_type": "code",
   "execution_count": 173,
   "metadata": {},
   "outputs": [
    {
     "data": {
      "text/plain": [
       "(10,)"
      ]
     },
     "execution_count": 173,
     "metadata": {},
     "output_type": "execute_result"
    }
   ],
   "source": [
    "struct_name_array[struct_score_array>50].shape"
   ]
  },
  {
   "cell_type": "code",
   "execution_count": 174,
   "metadata": {},
   "outputs": [
    {
     "data": {
      "text/plain": [
       "10"
      ]
     },
     "execution_count": 174,
     "metadata": {},
     "output_type": "execute_result"
    }
   ],
   "source": [
    "len([x  for x in structures if 'RIGHT' in x])"
   ]
  },
  {
   "cell_type": "code",
   "execution_count": 301,
   "metadata": {},
   "outputs": [
    {
     "data": {
      "text/plain": [
       "[('CIFTI_STRUCTURE_DIENCEPHALON_VENTRAL_RIGHT', 90),\n",
       " ('CIFTI_STRUCTURE_DIENCEPHALON_VENTRAL_LEFT', 90),\n",
       " ('CIFTI_STRUCTURE_CEREBRAL_WHITE_MATTER_RIGHT', 38),\n",
       " ('CIFTI_STRUCTURE_CEREBRAL_WHITE_MATTER_LEFT', 38),\n",
       " ('CIFTI_STRUCTURE_CEREBELLAR_WHITE_MATTER_RIGHT', 30),\n",
       " ('CIFTI_STRUCTURE_CEREBELLUM_RIGHT', 30),\n",
       " ('CIFTI_STRUCTURE_PALLIDUM_RIGHT', 30),\n",
       " ('CIFTI_STRUCTURE_THALAMUS_RIGHT', 30),\n",
       " ('CIFTI_STRUCTURE_CEREBELLAR_WHITE_MATTER_LEFT', 30),\n",
       " ('CIFTI_STRUCTURE_CEREBELLUM_LEFT', 30),\n",
       " ('CIFTI_STRUCTURE_CORTEX_LEFT', 30),\n",
       " ('CIFTI_STRUCTURE_HIPPOCAMPUS_LEFT', 30),\n",
       " ('CIFTI_STRUCTURE_PALLIDUM_LEFT', 30),\n",
       " ('CIFTI_STRUCTURE_THALAMUS_LEFT', 30),\n",
       " ('CIFTI_STRUCTURE_CEREBELLUM', 30),\n",
       " ('CIFTI_STRUCTURE_ACCUMBENS_LEFT', 27),\n",
       " ('CIFTI_STRUCTURE_PUTAMEN_LEFT', 27),\n",
       " ('CIFTI_STRUCTURE_ACCUMBENS_RIGHT', 26),\n",
       " ('CIFTI_STRUCTURE_PUTAMEN_RIGHT', 26),\n",
       " ('CIFTI_STRUCTURE_AMYGDALA_LEFT', 26),\n",
       " ('CIFTI_STRUCTURE_CAUDATE_LEFT', 26),\n",
       " ('CIFTI_STRUCTURE_CORTEX_RIGHT', 25),\n",
       " ('CIFTI_STRUCTURE_AMYGDALA_RIGHT', 24),\n",
       " ('CIFTI_STRUCTURE_CAUDATE_RIGHT', 24),\n",
       " ('CIFTI_STRUCTURE_CORTEX', 24),\n",
       " ('CIFTI_STRUCTURE_HIPPOCAMPUS_RIGHT', 22),\n",
       " ('CIFTI_STRUCTURE_ALL_WHITE_MATTER', 22),\n",
       " ('CIFTI_STRUCTURE_ALL_GREY_MATTER', 22),\n",
       " ('CIFTI_STRUCTURE_OTHER_WHITE_MATTER', 22),\n",
       " ('CIFTI_STRUCTURE_BRAIN_STEM', 21),\n",
       " ('CIFTI_STRUCTURE_OTHER', 19),\n",
       " ('CIFTI_STRUCTURE_OTHER_GREY_MATTER', 18)]"
      ]
     },
     "execution_count": 301,
     "metadata": {},
     "output_type": "execute_result"
    }
   ],
   "source": [
    "process.extract('diencephalon',tokens['token_right']+tokens['token_left']+tokens['token_other'],limit=None)"
   ]
  },
  {
   "cell_type": "code",
   "execution_count": 291,
   "metadata": {},
   "outputs": [
    {
     "data": {
      "text/plain": [
       "[('CIFTI_STRUCTURE_CORTEX_RIGHT', 79),\n",
       " ('CIFTI_STRUCTURE_CORTEX', 57),\n",
       " ('CIFTI_STRUCTURE_ACCUMBENS_RIGHT', 53),\n",
       " ('CIFTI_STRUCTURE_AMYGDALA_RIGHT', 53),\n",
       " ('CIFTI_STRUCTURE_CAUDATE_RIGHT', 53),\n",
       " ('CIFTI_STRUCTURE_CEREBELLAR_WHITE_MATTER_RIGHT', 53),\n",
       " ('CIFTI_STRUCTURE_CEREBELLUM_RIGHT', 53),\n",
       " ('CIFTI_STRUCTURE_CEREBRAL_WHITE_MATTER_RIGHT', 53),\n",
       " ('CIFTI_STRUCTURE_DIENCEPHALON_VENTRAL_RIGHT', 53),\n",
       " ('CIFTI_STRUCTURE_HIPPOCAMPUS_RIGHT', 53),\n",
       " ('CIFTI_STRUCTURE_PALLIDUM_RIGHT', 53),\n",
       " ('CIFTI_STRUCTURE_PUTAMEN_RIGHT', 53),\n",
       " ('CIFTI_STRUCTURE_THALAMUS_RIGHT', 53),\n",
       " ('CIFTI_STRUCTURE_CORTEX_LEFT', 52),\n",
       " ('CIFTI_STRUCTURE_CEREBELLAR_WHITE_MATTER_LEFT', 38),\n",
       " ('CIFTI_STRUCTURE_CEREBELLUM_LEFT', 38),\n",
       " ('CIFTI_STRUCTURE_CEREBRAL_WHITE_MATTER_LEFT', 38),\n",
       " ('CIFTI_STRUCTURE_CEREBELLUM', 38),\n",
       " ('CIFTI_STRUCTURE_OTHER_GREY_MATTER', 38),\n",
       " ('CIFTI_STRUCTURE_CAUDATE_LEFT', 30),\n",
       " ('CIFTI_STRUCTURE_PALLIDUM_LEFT', 30),\n",
       " ('CIFTI_STRUCTURE_PUTAMEN_LEFT', 30),\n",
       " ('CIFTI_STRUCTURE_ALL_WHITE_MATTER', 30),\n",
       " ('CIFTI_STRUCTURE_ALL_GREY_MATTER', 30),\n",
       " ('CIFTI_STRUCTURE_BRAIN_STEM', 30),\n",
       " ('CIFTI_STRUCTURE_OTHER_WHITE_MATTER', 30),\n",
       " ('CIFTI_STRUCTURE_AMYGDALA_LEFT', 28),\n",
       " ('CIFTI_STRUCTURE_THALAMUS_LEFT', 28),\n",
       " ('CIFTI_STRUCTURE_OTHER', 26),\n",
       " ('CIFTI_STRUCTURE_DIENCEPHALON_VENTRAL_LEFT', 23),\n",
       " ('CIFTI_STRUCTURE_ACCUMBENS_LEFT', 22),\n",
       " ('CIFTI_STRUCTURE_HIPPOCAMPUS_LEFT', 21)]"
      ]
     },
     "execution_count": 291,
     "metadata": {},
     "output_type": "execute_result"
    }
   ],
   "source": [
    "process.extract('right cortex',tokens['token_right']+tokens['token_left']+tokens['token_other'],limit=None)"
   ]
  },
  {
   "cell_type": "code",
   "execution_count": 212,
   "metadata": {},
   "outputs": [],
   "source": [
    "bm_structures = list(bm_axis.iter_structures())"
   ]
  },
  {
   "cell_type": "code",
   "execution_count": 222,
   "metadata": {},
   "outputs": [],
   "source": [
    "bm_structures_idxs = list(range(len(bm_structures)))\n",
    "bm_structures_names = list(list(map(operator.itemgetter(0), bm_structures)))\n",
    "bm_structures_slices = np.array(list(map(operator.itemgetter(1), bm_structures)))"
   ]
  },
  {
   "cell_type": "code",
   "execution_count": 223,
   "metadata": {},
   "outputs": [
    {
     "data": {
      "text/plain": [
       "21"
      ]
     },
     "execution_count": 223,
     "metadata": {},
     "output_type": "execute_result"
    }
   ],
   "source": [
    "len(bm_structures_slices)"
   ]
  },
  {
   "cell_type": "code",
   "execution_count": 224,
   "metadata": {},
   "outputs": [
    {
     "data": {
      "text/plain": [
       "{'CIFTI_STRUCTURE_CORTEX_LEFT': 0,\n",
       " 'CIFTI_STRUCTURE_CORTEX_RIGHT': 1,\n",
       " 'CIFTI_STRUCTURE_ACCUMBENS_LEFT': 2,\n",
       " 'CIFTI_STRUCTURE_ACCUMBENS_RIGHT': 3,\n",
       " 'CIFTI_STRUCTURE_AMYGDALA_LEFT': 4,\n",
       " 'CIFTI_STRUCTURE_AMYGDALA_RIGHT': 5,\n",
       " 'CIFTI_STRUCTURE_BRAIN_STEM': 6,\n",
       " 'CIFTI_STRUCTURE_CAUDATE_LEFT': 7,\n",
       " 'CIFTI_STRUCTURE_CAUDATE_RIGHT': 8,\n",
       " 'CIFTI_STRUCTURE_CEREBELLUM_LEFT': 9,\n",
       " 'CIFTI_STRUCTURE_CEREBELLUM_RIGHT': 10,\n",
       " 'CIFTI_STRUCTURE_DIENCEPHALON_VENTRAL_LEFT': 11,\n",
       " 'CIFTI_STRUCTURE_DIENCEPHALON_VENTRAL_RIGHT': 12,\n",
       " 'CIFTI_STRUCTURE_HIPPOCAMPUS_LEFT': 13,\n",
       " 'CIFTI_STRUCTURE_HIPPOCAMPUS_RIGHT': 14,\n",
       " 'CIFTI_STRUCTURE_PALLIDUM_LEFT': 15,\n",
       " 'CIFTI_STRUCTURE_PALLIDUM_RIGHT': 16,\n",
       " 'CIFTI_STRUCTURE_PUTAMEN_LEFT': 17,\n",
       " 'CIFTI_STRUCTURE_PUTAMEN_RIGHT': 18,\n",
       " 'CIFTI_STRUCTURE_THALAMUS_LEFT': 19,\n",
       " 'CIFTI_STRUCTURE_THALAMUS_RIGHT': 20}"
      ]
     },
     "execution_count": 224,
     "metadata": {},
     "output_type": "execute_result"
    }
   ],
   "source": [
    "dict(zip(bm_structures_names,bm_structures_idxs))"
   ]
  },
  {
   "cell_type": "code",
   "execution_count": null,
   "metadata": {},
   "outputs": [],
   "source": []
  }
 ],
 "metadata": {
  "kernelspec": {
   "display_name": "venv",
   "language": "python",
   "name": "python3"
  },
  "language_info": {
   "codemirror_mode": {
    "name": "ipython",
    "version": 3
   },
   "file_extension": ".py",
   "mimetype": "text/x-python",
   "name": "python",
   "nbconvert_exporter": "python",
   "pygments_lexer": "ipython3",
   "version": "3.11.4"
  },
  "orig_nbformat": 4
 },
 "nbformat": 4,
 "nbformat_minor": 2
}
